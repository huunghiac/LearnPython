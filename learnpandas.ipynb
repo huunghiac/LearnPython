{
 "cells": [
  {
   "cell_type": "markdown",
   "id": "8cc8154d",
   "metadata": {},
   "source": [
    "Bassic"
   ]
  },
  {
   "cell_type": "code",
   "execution_count": null,
   "id": "b7d0ccd3-c896-4704-8d35-76690c971bf7",
   "metadata": {},
   "outputs": [
    {
     "name": "stdout",
     "output_type": "stream",
     "text": [
      "Dataset\n"
     ]
    },
    {
     "data": {
      "text/html": [
       "<div>\n",
       "<style scoped>\n",
       "    .dataframe tbody tr th:only-of-type {\n",
       "        vertical-align: middle;\n",
       "    }\n",
       "\n",
       "    .dataframe tbody tr th {\n",
       "        vertical-align: top;\n",
       "    }\n",
       "\n",
       "    .dataframe thead th {\n",
       "        text-align: right;\n",
       "    }\n",
       "</style>\n",
       "<table border=\"1\" class=\"dataframe\">\n",
       "  <thead>\n",
       "    <tr style=\"text-align: right;\">\n",
       "      <th></th>\n",
       "      <th>Team</th>\n",
       "      <th>Number</th>\n",
       "      <th>Position</th>\n",
       "      <th>Age</th>\n",
       "      <th>Height</th>\n",
       "      <th>Weight</th>\n",
       "      <th>College</th>\n",
       "      <th>Salary</th>\n",
       "    </tr>\n",
       "    <tr>\n",
       "      <th>Name</th>\n",
       "      <th></th>\n",
       "      <th></th>\n",
       "      <th></th>\n",
       "      <th></th>\n",
       "      <th></th>\n",
       "      <th></th>\n",
       "      <th></th>\n",
       "      <th></th>\n",
       "    </tr>\n",
       "  </thead>\n",
       "  <tbody>\n",
       "    <tr>\n",
       "      <th>Avery Bradley</th>\n",
       "      <td>Boston Celtics</td>\n",
       "      <td>0.0</td>\n",
       "      <td>PG</td>\n",
       "      <td>25.0</td>\n",
       "      <td>6-2</td>\n",
       "      <td>180.0</td>\n",
       "      <td>Texas</td>\n",
       "      <td>7730337.0</td>\n",
       "    </tr>\n",
       "    <tr>\n",
       "      <th>Jae Crowder</th>\n",
       "      <td>Boston Celtics</td>\n",
       "      <td>99.0</td>\n",
       "      <td>SF</td>\n",
       "      <td>25.0</td>\n",
       "      <td>6-6</td>\n",
       "      <td>235.0</td>\n",
       "      <td>Marquette</td>\n",
       "      <td>6796117.0</td>\n",
       "    </tr>\n",
       "    <tr>\n",
       "      <th>John Holland</th>\n",
       "      <td>Boston Celtics</td>\n",
       "      <td>30.0</td>\n",
       "      <td>SG</td>\n",
       "      <td>27.0</td>\n",
       "      <td>6-5</td>\n",
       "      <td>205.0</td>\n",
       "      <td>Boston University</td>\n",
       "      <td>NaN</td>\n",
       "    </tr>\n",
       "    <tr>\n",
       "      <th>R.J. Hunter</th>\n",
       "      <td>Boston Celtics</td>\n",
       "      <td>28.0</td>\n",
       "      <td>SG</td>\n",
       "      <td>22.0</td>\n",
       "      <td>6-5</td>\n",
       "      <td>185.0</td>\n",
       "      <td>Georgia State</td>\n",
       "      <td>1148640.0</td>\n",
       "    </tr>\n",
       "    <tr>\n",
       "      <th>Jonas Jerebko</th>\n",
       "      <td>Boston Celtics</td>\n",
       "      <td>8.0</td>\n",
       "      <td>PF</td>\n",
       "      <td>29.0</td>\n",
       "      <td>6-10</td>\n",
       "      <td>231.0</td>\n",
       "      <td>NaN</td>\n",
       "      <td>5000000.0</td>\n",
       "    </tr>\n",
       "  </tbody>\n",
       "</table>\n",
       "</div>"
      ],
      "text/plain": [
       "                         Team  Number Position   Age Height  Weight  \\\n",
       "Name                                                                  \n",
       "Avery Bradley  Boston Celtics     0.0       PG  25.0    6-2   180.0   \n",
       "Jae Crowder    Boston Celtics    99.0       SF  25.0    6-6   235.0   \n",
       "John Holland   Boston Celtics    30.0       SG  27.0    6-5   205.0   \n",
       "R.J. Hunter    Boston Celtics    28.0       SG  22.0    6-5   185.0   \n",
       "Jonas Jerebko  Boston Celtics     8.0       PF  29.0   6-10   231.0   \n",
       "\n",
       "                         College     Salary  \n",
       "Name                                         \n",
       "Avery Bradley              Texas  7730337.0  \n",
       "Jae Crowder            Marquette  6796117.0  \n",
       "John Holland   Boston University        NaN  \n",
       "R.J. Hunter        Georgia State  1148640.0  \n",
       "Jonas Jerebko                NaN  5000000.0  "
      ]
     },
     "metadata": {},
     "output_type": "display_data"
    },
    {
     "name": "stdout",
     "output_type": "stream",
     "text": [
      "\n",
      "Single Column selected from Dataset\n"
     ]
    },
    {
     "data": {
      "text/plain": [
       "Name\n",
       "Avery Bradley    25.0\n",
       "Jae Crowder      25.0\n",
       "John Holland     27.0\n",
       "R.J. Hunter      22.0\n",
       "Jonas Jerebko    29.0\n",
       "Name: Age, dtype: float64"
      ]
     },
     "metadata": {},
     "output_type": "display_data"
    }
   ],
   "source": [
    "import pandas as pd\n",
    "\n",
    "data = pd.read_csv(\"nba.csv\", index_col = \"Name\")\n",
    "print(\"Dataset\")\n",
    "display(data.head(5))\n",
    "\n",
    "first = data[\"Age\"]\n",
    "print(\"\\nSingle Column selected from Dataset\")\n",
    "display(first.head(5))"
   ]
  },
  {
   "cell_type": "code",
   "execution_count": 8,
   "id": "5c0744ef-013c-4ae1-a923-c7d4296ad676",
   "metadata": {},
   "outputs": [
    {
     "name": "stdout",
     "output_type": "stream",
     "text": [
      "\n",
      "Multiple Columns selected from Dataset\n"
     ]
    },
    {
     "data": {
      "text/html": [
       "<div>\n",
       "<style scoped>\n",
       "    .dataframe tbody tr th:only-of-type {\n",
       "        vertical-align: middle;\n",
       "    }\n",
       "\n",
       "    .dataframe tbody tr th {\n",
       "        vertical-align: top;\n",
       "    }\n",
       "\n",
       "    .dataframe thead th {\n",
       "        text-align: right;\n",
       "    }\n",
       "</style>\n",
       "<table border=\"1\" class=\"dataframe\">\n",
       "  <thead>\n",
       "    <tr style=\"text-align: right;\">\n",
       "      <th></th>\n",
       "      <th>Age</th>\n",
       "      <th>College</th>\n",
       "      <th>Salary</th>\n",
       "    </tr>\n",
       "    <tr>\n",
       "      <th>Name</th>\n",
       "      <th></th>\n",
       "      <th></th>\n",
       "      <th></th>\n",
       "    </tr>\n",
       "  </thead>\n",
       "  <tbody>\n",
       "    <tr>\n",
       "      <th>Avery Bradley</th>\n",
       "      <td>25.0</td>\n",
       "      <td>Texas</td>\n",
       "      <td>7730337.0</td>\n",
       "    </tr>\n",
       "    <tr>\n",
       "      <th>Jae Crowder</th>\n",
       "      <td>25.0</td>\n",
       "      <td>Marquette</td>\n",
       "      <td>6796117.0</td>\n",
       "    </tr>\n",
       "    <tr>\n",
       "      <th>John Holland</th>\n",
       "      <td>27.0</td>\n",
       "      <td>Boston University</td>\n",
       "      <td>NaN</td>\n",
       "    </tr>\n",
       "    <tr>\n",
       "      <th>R.J. Hunter</th>\n",
       "      <td>22.0</td>\n",
       "      <td>Georgia State</td>\n",
       "      <td>1148640.0</td>\n",
       "    </tr>\n",
       "    <tr>\n",
       "      <th>Jonas Jerebko</th>\n",
       "      <td>29.0</td>\n",
       "      <td>NaN</td>\n",
       "      <td>5000000.0</td>\n",
       "    </tr>\n",
       "  </tbody>\n",
       "</table>\n",
       "</div>"
      ],
      "text/plain": [
       "                Age            College     Salary\n",
       "Name                                             \n",
       "Avery Bradley  25.0              Texas  7730337.0\n",
       "Jae Crowder    25.0          Marquette  6796117.0\n",
       "John Holland   27.0  Boston University        NaN\n",
       "R.J. Hunter    22.0      Georgia State  1148640.0\n",
       "Jonas Jerebko  29.0                NaN  5000000.0"
      ]
     },
     "metadata": {},
     "output_type": "display_data"
    }
   ],
   "source": [
    "first = data[[\"Age\", \"College\", \"Salary\"]]\n",
    "print(\"\\nMultiple Columns selected from Dataset\")\n",
    "display(first.head(5))"
   ]
  },
  {
   "cell_type": "code",
   "execution_count": 9,
   "id": "5e8b6a64-1808-4bd0-9269-d48e5a12c195",
   "metadata": {},
   "outputs": [
    {
     "name": "stdout",
     "output_type": "stream",
     "text": [
      "Team        Boston Celtics\n",
      "Number                 0.0\n",
      "Position                PG\n",
      "Age                   25.0\n",
      "Height                 6-2\n",
      "Weight               180.0\n",
      "College              Texas\n",
      "Salary           7730337.0\n",
      "Name: Avery Bradley, dtype: object\n"
     ]
    }
   ],
   "source": [
    "row = data.loc[\"Avery Bradley\"]\n",
    "print (row)"
   ]
  },
  {
   "cell_type": "code",
   "execution_count": 7,
   "id": "8c265421-8ed4-4705-a7ae-e128ba88ad77",
   "metadata": {},
   "outputs": [
    {
     "name": "stdout",
     "output_type": "stream",
     "text": [
      "                Age  Weight     Salary\n",
      "Name                                  \n",
      "R.J. Hunter    22.0   185.0  1148640.0\n",
      "Avery Bradley  25.0   180.0  7730337.0\n"
     ]
    }
   ],
   "source": [
    "sec = data.loc [[\"R.J. Hunter\",\"Avery Bradley\"], [\"Age\", \"Weight\", \"Salary\"]]\n",
    "print (sec)"
   ]
  },
  {
   "cell_type": "code",
   "execution_count": 8,
   "id": "e1ea76de",
   "metadata": {},
   "outputs": [
    {
     "name": "stdout",
     "output_type": "stream",
     "text": [
      "                         Team\n",
      "Name                         \n",
      "Avery Bradley  Boston Celtics\n",
      "Jae Crowder    Boston Celtics\n",
      "John Holland   Boston Celtics\n",
      "R.J. Hunter    Boston Celtics\n",
      "Jonas Jerebko  Boston Celtics\n",
      "...                       ...\n",
      "Shelvin Mack        Utah Jazz\n",
      "Raul Neto           Utah Jazz\n",
      "Tibor Pleiss        Utah Jazz\n",
      "Jeff Withey         Utah Jazz\n",
      "NaN                       NaN\n",
      "\n",
      "[458 rows x 1 columns]\n"
     ]
    }
   ],
   "source": [
    "allrow = data.loc[:, [\"Team\"]]\n",
    "print(allrow)"
   ]
  },
  {
   "cell_type": "code",
   "execution_count": 12,
   "id": "10054bd0",
   "metadata": {},
   "outputs": [
    {
     "name": "stdout",
     "output_type": "stream",
     "text": [
      "25.0\n"
     ]
    }
   ],
   "source": [
    "value = data.at[\"Avery Bradley\", \"Age\"]\n",
    "print(value)"
   ]
  },
  {
   "cell_type": "code",
   "execution_count": 13,
   "id": "c297a1ba",
   "metadata": {},
   "outputs": [
    {
     "name": "stdout",
     "output_type": "stream",
     "text": [
      "                                    Team  Number Position   Age Height  \\\n",
      "Name                                                                     \n",
      "Andrew Bogut       Golden State Warriors    12.0        C  31.0    7-0   \n",
      "Tyson Chandler              Phoenix Suns     4.0        C  33.0    7-1   \n",
      "Pau Gasol                  Chicago Bulls    16.0        C  35.0    7-0   \n",
      "Joakim Noah                Chicago Bulls    13.0        C  31.0   6-11   \n",
      "Sasha Kaun           Cleveland Cavaliers    14.0        C  31.0   6-11   \n",
      "Joel Anthony             Detroit Pistons    50.0        C  33.0    6-9   \n",
      "Zaza Pachulia           Dallas Mavericks    27.0        C  32.0   6-11   \n",
      "Marc Gasol             Memphis Grizzlies    33.0        C  31.0    7-1   \n",
      "Kendrick Perkins    New Orleans Pelicans     5.0        C  31.0   6-10   \n",
      "Matt Bonner            San Antonio Spurs    15.0        C  36.0   6-10   \n",
      "Boris Diaw             San Antonio Spurs    33.0        C  34.0    6-8   \n",
      "Tim Duncan             San Antonio Spurs    21.0        C  40.0   6-11   \n",
      "Tiago Splitter             Atlanta Hawks    11.0        C  31.0   6-11   \n",
      "Al Jefferson           Charlotte Hornets    25.0        C  31.0   6-10   \n",
      "Marcin Gortat         Washington Wizards    13.0        C  32.0   6-11   \n",
      "Nene Hilario          Washington Wizards    42.0        C  33.0   6-11   \n",
      "Nazr Mohammed      Oklahoma City Thunder    13.0        C  38.0   6-10   \n",
      "Chris Kaman       Portland Trail Blazers    35.0        C  34.0    7-0   \n",
      "\n",
      "                  Weight           College      Salary  \n",
      "Name                                                    \n",
      "Andrew Bogut       260.0              Utah  13800000.0  \n",
      "Tyson Chandler     240.0               NaN  13000000.0  \n",
      "Pau Gasol          250.0               NaN   7448760.0  \n",
      "Joakim Noah        232.0           Florida  13400000.0  \n",
      "Sasha Kaun         260.0            Kansas   1276000.0  \n",
      "Joel Anthony       245.0              UNLV   2500000.0  \n",
      "Zaza Pachulia      275.0               NaN   5200000.0  \n",
      "Marc Gasol         255.0               NaN  19688000.0  \n",
      "Kendrick Perkins   270.0               NaN    947276.0  \n",
      "Matt Bonner        235.0           Florida    947276.0  \n",
      "Boris Diaw         250.0               NaN   7500000.0  \n",
      "Tim Duncan         250.0       Wake Forest   5250000.0  \n",
      "Tiago Splitter     245.0               NaN   9756250.0  \n",
      "Al Jefferson       289.0               NaN  13500000.0  \n",
      "Marcin Gortat      240.0               NaN  11217391.0  \n",
      "Nene Hilario       250.0               NaN  13000000.0  \n",
      "Nazr Mohammed      250.0          Kentucky    222888.0  \n",
      "Chris Kaman        265.0  Central Michigan   5016000.0  \n"
     ]
    }
   ],
   "source": [
    "result = data.query(\"Age>30 and Position == 'C' \")\n",
    "print(result)"
   ]
  },
  {
   "cell_type": "code",
   "execution_count": null,
   "id": "3aada450",
   "metadata": {},
   "outputs": [
    {
     "name": "stdout",
     "output_type": "stream",
     "text": [
      "            Name  Age  Weight   Salary\n",
      "0      M.S.Dhoni   36      75  5428000\n",
      "1  A.B.D Villers   38      74  3428000\n",
      "2        V.Kohli   31      70  8428000\n",
      "3        S.Smith   34      80  4428000\n",
      "4        C.Gayle   40     100  4528000\n",
      "5         J.Root   33      72  7028000\n",
      "6     K.Peterson   42      85  2528000\n"
     ]
    }
   ],
   "source": [
    "import pandas as pd\n",
    "import numpy as np\n",
    "from IPython.display import display\n",
    "\n",
    "player_list = [['M.S.Dhoni', 36, 75, 5428000],\n",
    "               ['A.B.D Villers', 38, 74, 3428000],\n",
    "               ['V.Kohli', 31, 70, 8428000],\n",
    "               ['S.Smith', 34, 80, 4428000],\n",
    "               ['C.Gayle', 40, 100, 4528000],\n",
    "               ['J.Root', 33, 72, 7028000],\n",
    "               ['K.Peterson', 42, 85, 2528000]]\n",
    "\n",
    "df = pd.DataFrame(player_list, columns=['Name', 'Age', 'Weight', 'Salary'])\n",
    "print(df)"
   ]
  },
  {
   "cell_type": "code",
   "execution_count": 19,
   "id": "a1e59d4f",
   "metadata": {},
   "outputs": [
    {
     "name": "stdout",
     "output_type": "stream",
     "text": [
      "            Name  Age  Weight   Salary\n",
      "0      M.S.Dhoni   36      75  5428000\n",
      "1  A.B.D Villers   38      74  3428000\n",
      "4        C.Gayle   40     100  4528000\n",
      "6     K.Peterson   42      85  2528000\n"
     ]
    }
   ],
   "source": [
    "data = df[df['Age']>35].iloc[:,:]\n",
    "print(data)"
   ]
  },
  {
   "cell_type": "code",
   "execution_count": null,
   "id": "227af484",
   "metadata": {},
   "outputs": [
    {
     "name": "stdout",
     "output_type": "stream",
     "text": [
      "        Name       JOB\n",
      "0   RACHEL    DESIGNER\n"
     ]
    }
   ],
   "source": [
    "# import module\n",
    "import pandas as pd\n",
    "from IPython.display import display\n",
    "\n",
    "# assign data\n",
    "dataFrame = pd.DataFrame({'Name': [' RACHEL  ', ' MONICA  ', ' PHOEBE  ',\n",
    "                                   '  ROSS    ', 'CHANDLER', ' JOEY    '],\n",
    "                          \n",
    "                          'Age': [30, 35, 37, 33, 34, 30],\n",
    "                          \n",
    "                          'Salary': [100000, 93000, 88000, 120000, 94000, 95000],\n",
    "                          \n",
    "                          'JOB': ['DESIGNER', 'CHEF', 'MASUS', 'PALENTOLOGY',\n",
    "                                  'IT', 'ARTIST']})\n",
    "\n",
    "# display dataframe\n",
    "print(dataFrame.loc[(dataFrame['Salary']>=100000) & (dataFrame['Age']<40) & (dataFrame['JOB'].str.startswith('D')), ['Name', 'JOB']])"
   ]
  },
  {
   "cell_type": "code",
   "execution_count": 25,
   "id": "833505d4",
   "metadata": {},
   "outputs": [
    {
     "name": "stdout",
     "output_type": "stream",
     "text": [
      "(array([0]),)\n"
     ]
    },
    {
     "data": {
      "text/html": [
       "<div>\n",
       "<style scoped>\n",
       "    .dataframe tbody tr th:only-of-type {\n",
       "        vertical-align: middle;\n",
       "    }\n",
       "\n",
       "    .dataframe tbody tr th {\n",
       "        vertical-align: top;\n",
       "    }\n",
       "\n",
       "    .dataframe thead th {\n",
       "        text-align: right;\n",
       "    }\n",
       "</style>\n",
       "<table border=\"1\" class=\"dataframe\">\n",
       "  <thead>\n",
       "    <tr style=\"text-align: right;\">\n",
       "      <th></th>\n",
       "      <th>Name</th>\n",
       "      <th>Age</th>\n",
       "      <th>Salary</th>\n",
       "      <th>JOB</th>\n",
       "    </tr>\n",
       "  </thead>\n",
       "  <tbody>\n",
       "    <tr>\n",
       "      <th>0</th>\n",
       "      <td>RACHEL</td>\n",
       "      <td>30</td>\n",
       "      <td>100000</td>\n",
       "      <td>DESIGNER</td>\n",
       "    </tr>\n",
       "  </tbody>\n",
       "</table>\n",
       "</div>"
      ],
      "text/plain": [
       "        Name  Age  Salary       JOB\n",
       "0   RACHEL     30  100000  DESIGNER"
      ]
     },
     "metadata": {},
     "output_type": "display_data"
    }
   ],
   "source": [
    "import numpy as np\n",
    "filtered_values = np.where((dataFrame['Salary']>=100000) & (dataFrame['Age']< 40) & (dataFrame['JOB'].str.startswith('D')))\n",
    "print(filtered_values)\n",
    "display(dataFrame.loc[filtered_values])"
   ]
  },
  {
   "cell_type": "code",
   "execution_count": 28,
   "id": "57289045",
   "metadata": {},
   "outputs": [
    {
     "name": "stdout",
     "output_type": "stream",
     "text": [
      "        Name  Age  Salary   JOB\n",
      "1   MONICA     35   93000  CHEF\n"
     ]
    },
    {
     "data": {
      "text/html": [
       "<div>\n",
       "<style scoped>\n",
       "    .dataframe tbody tr th:only-of-type {\n",
       "        vertical-align: middle;\n",
       "    }\n",
       "\n",
       "    .dataframe tbody tr th {\n",
       "        vertical-align: top;\n",
       "    }\n",
       "\n",
       "    .dataframe thead th {\n",
       "        text-align: right;\n",
       "    }\n",
       "</style>\n",
       "<table border=\"1\" class=\"dataframe\">\n",
       "  <thead>\n",
       "    <tr style=\"text-align: right;\">\n",
       "      <th></th>\n",
       "      <th>Name</th>\n",
       "      <th>Age</th>\n",
       "      <th>Salary</th>\n",
       "      <th>JOB</th>\n",
       "    </tr>\n",
       "  </thead>\n",
       "  <tbody>\n",
       "    <tr>\n",
       "      <th>5</th>\n",
       "      <td>JOEY</td>\n",
       "      <td>30</td>\n",
       "      <td>95000</td>\n",
       "      <td>ARTIST</td>\n",
       "    </tr>\n",
       "  </tbody>\n",
       "</table>\n",
       "</div>"
      ],
      "text/plain": [
       "        Name  Age  Salary     JOB\n",
       "5   JOEY       30   95000  ARTIST"
      ]
     },
     "metadata": {},
     "output_type": "display_data"
    },
    {
     "data": {
      "text/html": [
       "<div>\n",
       "<style scoped>\n",
       "    .dataframe tbody tr th:only-of-type {\n",
       "        vertical-align: middle;\n",
       "    }\n",
       "\n",
       "    .dataframe tbody tr th {\n",
       "        vertical-align: top;\n",
       "    }\n",
       "\n",
       "    .dataframe thead th {\n",
       "        text-align: right;\n",
       "    }\n",
       "</style>\n",
       "<table border=\"1\" class=\"dataframe\">\n",
       "  <thead>\n",
       "    <tr style=\"text-align: right;\">\n",
       "      <th></th>\n",
       "      <th>Name</th>\n",
       "      <th>Age</th>\n",
       "      <th>Salary</th>\n",
       "    </tr>\n",
       "  </thead>\n",
       "  <tbody>\n",
       "    <tr>\n",
       "      <th>3</th>\n",
       "      <td>ROSS</td>\n",
       "      <td>33</td>\n",
       "      <td>120000</td>\n",
       "    </tr>\n",
       "  </tbody>\n",
       "</table>\n",
       "</div>"
      ],
      "text/plain": [
       "         Name  Age  Salary\n",
       "3    ROSS       33  120000"
      ]
     },
     "metadata": {},
     "output_type": "display_data"
    }
   ],
   "source": [
    "print(dataFrame.query('Salary<=100000 & Age < 40 & JOB.str.startswith(\"C\").values'))\n",
    "\n",
    "display(dataFrame[dataFrame.eval(\"Salary <=100000 & (Age <40) & JOB.str.startswith('A').values\")])\n",
    "\n",
    "display(dataFrame[(dataFrame['Salary']>=100000) & (dataFrame['Age']<40) & dataFrame['JOB'].str.startswith('P')][['Name','Age','Salary']])"
   ]
  },
  {
   "cell_type": "markdown",
   "id": "fc8dafce",
   "metadata": {},
   "source": [
    "CONCAT"
   ]
  },
  {
   "cell_type": "code",
   "execution_count": 30,
   "id": "d717e254",
   "metadata": {},
   "outputs": [
    {
     "name": "stdout",
     "output_type": "stream",
     "text": [
      "     Tên  Tuổi  Địa chỉ  Trình độ\n",
      "0    Hải    27   Hà Nội   Thạc sĩ\n",
      "1  Trang    24  Đà Nẵng   Đại học\n",
      "2   Minh    22      Huế  Cao đẳng\n",
      "3     An    32  Cần Thơ   Tiến sĩ \n",
      "\n",
      "     Tên  Tuổi  Địa chỉ  Trình độ\n",
      "4  Tuấn    19   Hà Nội   Cử nhân\n",
      "5   Lan    21  Đà Nẵng  Cao đẳng\n",
      "6  Dũng    23      Huế   Đại học\n",
      "7    Hà    25  Cần Thơ   Thạc sĩ\n"
     ]
    },
    {
     "data": {
      "text/html": [
       "<div>\n",
       "<style scoped>\n",
       "    .dataframe tbody tr th:only-of-type {\n",
       "        vertical-align: middle;\n",
       "    }\n",
       "\n",
       "    .dataframe tbody tr th {\n",
       "        vertical-align: top;\n",
       "    }\n",
       "\n",
       "    .dataframe thead th {\n",
       "        text-align: right;\n",
       "    }\n",
       "</style>\n",
       "<table border=\"1\" class=\"dataframe\">\n",
       "  <thead>\n",
       "    <tr style=\"text-align: right;\">\n",
       "      <th></th>\n",
       "      <th>Tên</th>\n",
       "      <th>Tuổi</th>\n",
       "      <th>Địa chỉ</th>\n",
       "      <th>Trình độ</th>\n",
       "    </tr>\n",
       "  </thead>\n",
       "  <tbody>\n",
       "    <tr>\n",
       "      <th>0</th>\n",
       "      <td>Hải</td>\n",
       "      <td>27</td>\n",
       "      <td>Hà Nội</td>\n",
       "      <td>Thạc sĩ</td>\n",
       "    </tr>\n",
       "    <tr>\n",
       "      <th>1</th>\n",
       "      <td>Trang</td>\n",
       "      <td>24</td>\n",
       "      <td>Đà Nẵng</td>\n",
       "      <td>Đại học</td>\n",
       "    </tr>\n",
       "    <tr>\n",
       "      <th>2</th>\n",
       "      <td>Minh</td>\n",
       "      <td>22</td>\n",
       "      <td>Huế</td>\n",
       "      <td>Cao đẳng</td>\n",
       "    </tr>\n",
       "    <tr>\n",
       "      <th>3</th>\n",
       "      <td>An</td>\n",
       "      <td>32</td>\n",
       "      <td>Cần Thơ</td>\n",
       "      <td>Tiến sĩ</td>\n",
       "    </tr>\n",
       "    <tr>\n",
       "      <th>4</th>\n",
       "      <td>Tuấn</td>\n",
       "      <td>19</td>\n",
       "      <td>Hà Nội</td>\n",
       "      <td>Cử nhân</td>\n",
       "    </tr>\n",
       "    <tr>\n",
       "      <th>5</th>\n",
       "      <td>Lan</td>\n",
       "      <td>21</td>\n",
       "      <td>Đà Nẵng</td>\n",
       "      <td>Cao đẳng</td>\n",
       "    </tr>\n",
       "    <tr>\n",
       "      <th>6</th>\n",
       "      <td>Dũng</td>\n",
       "      <td>23</td>\n",
       "      <td>Huế</td>\n",
       "      <td>Đại học</td>\n",
       "    </tr>\n",
       "    <tr>\n",
       "      <th>7</th>\n",
       "      <td>Hà</td>\n",
       "      <td>25</td>\n",
       "      <td>Cần Thơ</td>\n",
       "      <td>Thạc sĩ</td>\n",
       "    </tr>\n",
       "  </tbody>\n",
       "</table>\n",
       "</div>"
      ],
      "text/plain": [
       "     Tên  Tuổi  Địa chỉ  Trình độ\n",
       "0    Hải    27   Hà Nội   Thạc sĩ\n",
       "1  Trang    24  Đà Nẵng   Đại học\n",
       "2   Minh    22      Huế  Cao đẳng\n",
       "3     An    32  Cần Thơ   Tiến sĩ\n",
       "4   Tuấn    19   Hà Nội   Cử nhân\n",
       "5    Lan    21  Đà Nẵng  Cao đẳng\n",
       "6   Dũng    23      Huế   Đại học\n",
       "7     Hà    25  Cần Thơ   Thạc sĩ"
      ]
     },
     "execution_count": 30,
     "metadata": {},
     "output_type": "execute_result"
    }
   ],
   "source": [
    "import pandas as pd\n",
    "\n",
    "du_lieu1 = {\n",
    "    'Tên': ['Hải', 'Trang', 'Minh', 'An'],\n",
    "    'Tuổi': [27, 24, 22, 32],\n",
    "    'Địa chỉ': ['Hà Nội', 'Đà Nẵng', 'Huế', 'Cần Thơ'],\n",
    "    'Trình độ': ['Thạc sĩ', 'Đại học', 'Cao đẳng', 'Tiến sĩ']\n",
    "}\n",
    "\n",
    "du_lieu2 = {\n",
    "    'Tên': ['Tuấn', 'Lan', 'Dũng', 'Hà'],\n",
    "    'Tuổi': [19, 21, 23, 25],\n",
    "    'Địa chỉ': ['Hà Nội', 'Đà Nẵng', 'Huế', 'Cần Thơ'],\n",
    "    'Trình độ': ['Cử nhân', 'Cao đẳng', 'Đại học', 'Thạc sĩ']\n",
    "}\n",
    "\n",
    "df = pd.DataFrame(du_lieu1, index=[0, 1, 2, 3])\n",
    "df1 = pd.DataFrame(du_lieu2, index=[4, 5, 6, 7])\n",
    "\n",
    "print(df, \"\\n\\n\", df1)\n",
    "frames = [df, df1]\n",
    "\n",
    "res1 = pd.concat(frames)\n",
    "res1\n"
   ]
  },
  {
   "cell_type": "code",
   "execution_count": null,
   "id": "1589be49",
   "metadata": {},
   "outputs": [
    {
     "name": "stdout",
     "output_type": "stream",
     "text": [
      "     Tên  Tuổi  Địa chỉ  Trình độ\n",
      "0    Hải    27   Hà Nội   Thạc sĩ\n",
      "1  Trang    24  Đà Nẵng   Đại học\n",
      "2   Minh    22      Huế  Cao đẳng\n",
      "3     An    32  Cần Thơ   Tiến sĩ \n",
      "\n",
      "     Tên  Tuổi  Địa chỉ  Trình độ\n",
      "2  Tuấn    19   Hà Nội   Cử nhân\n",
      "3   Lan    21  Đà Nẵng  Cao đẳng\n",
      "4  Dũng    23      Huế   Đại học\n",
      "7    Hà    25  Cần Thơ   Thạc sĩ\n"
     ]
    },
    {
     "data": {
      "text/html": [
       "<div>\n",
       "<style scoped>\n",
       "    .dataframe tbody tr th:only-of-type {\n",
       "        vertical-align: middle;\n",
       "    }\n",
       "\n",
       "    .dataframe tbody tr th {\n",
       "        vertical-align: top;\n",
       "    }\n",
       "\n",
       "    .dataframe thead th {\n",
       "        text-align: right;\n",
       "    }\n",
       "</style>\n",
       "<table border=\"1\" class=\"dataframe\">\n",
       "  <thead>\n",
       "    <tr style=\"text-align: right;\">\n",
       "      <th></th>\n",
       "      <th>Tên</th>\n",
       "      <th>Tuổi</th>\n",
       "      <th>Địa chỉ</th>\n",
       "      <th>Trình độ</th>\n",
       "      <th>Tên</th>\n",
       "      <th>Tuổi</th>\n",
       "      <th>Địa chỉ</th>\n",
       "      <th>Trình độ</th>\n",
       "    </tr>\n",
       "  </thead>\n",
       "  <tbody>\n",
       "    <tr>\n",
       "      <th>2</th>\n",
       "      <td>Minh</td>\n",
       "      <td>22</td>\n",
       "      <td>Huế</td>\n",
       "      <td>Cao đẳng</td>\n",
       "      <td>Tuấn</td>\n",
       "      <td>19</td>\n",
       "      <td>Hà Nội</td>\n",
       "      <td>Cử nhân</td>\n",
       "    </tr>\n",
       "    <tr>\n",
       "      <th>3</th>\n",
       "      <td>An</td>\n",
       "      <td>32</td>\n",
       "      <td>Cần Thơ</td>\n",
       "      <td>Tiến sĩ</td>\n",
       "      <td>Lan</td>\n",
       "      <td>21</td>\n",
       "      <td>Đà Nẵng</td>\n",
       "      <td>Cao đẳng</td>\n",
       "    </tr>\n",
       "  </tbody>\n",
       "</table>\n",
       "</div>"
      ],
      "text/plain": [
       "    Tên  Tuổi  Địa chỉ  Trình độ   Tên  Tuổi  Địa chỉ  Trình độ\n",
       "2  Minh    22      Huế  Cao đẳng  Tuấn    19   Hà Nội   Cử nhân\n",
       "3    An    32  Cần Thơ   Tiến sĩ   Lan    21  Đà Nẵng  Cao đẳng"
      ]
     },
     "execution_count": 31,
     "metadata": {},
     "output_type": "execute_result"
    }
   ],
   "source": [
    "import pandas as pd\n",
    "\n",
    "du_lieu1 = {\n",
    "    'Tên': ['Hải', 'Trang', 'Minh', 'An'],\n",
    "    'Tuổi': [27, 24, 22, 32],\n",
    "    'Địa chỉ': ['Hà Nội', 'Đà Nẵng', 'Huế', 'Cần Thơ'],\n",
    "    'Trình độ': ['Thạc sĩ', 'Đại học', 'Cao đẳng', 'Tiến sĩ']\n",
    "}\n",
    "\n",
    "du_lieu2 = {\n",
    "    'Tên': ['Tuấn', 'Lan', 'Dũng', 'Hà'],\n",
    "    'Tuổi': [19, 21, 23, 25],\n",
    "    'Địa chỉ': ['Hà Nội', 'Đà Nẵng', 'Huế', 'Cần Thơ'],\n",
    "    'Trình độ': ['Cử nhân', 'Cao đẳng', 'Đại học', 'Thạc sĩ']\n",
    "}\n",
    "\n",
    "df = pd.DataFrame(du_lieu1, index=[0, 1, 2, 3])\n",
    "df1 = pd.DataFrame(du_lieu2, index=[2, 3, 4, 7])\n",
    "\n",
    "print(df, \"\\n\\n\", df1)\n",
    "frames = [df, df1]\n",
    "\n",
    "res1 = pd.concat([df, df1], axis=1, join='inner')\n",
    "res1\n"
   ]
  },
  {
   "cell_type": "code",
   "execution_count": 32,
   "id": "c637e85e",
   "metadata": {},
   "outputs": [
    {
     "data": {
      "text/html": [
       "<div>\n",
       "<style scoped>\n",
       "    .dataframe tbody tr th:only-of-type {\n",
       "        vertical-align: middle;\n",
       "    }\n",
       "\n",
       "    .dataframe tbody tr th {\n",
       "        vertical-align: top;\n",
       "    }\n",
       "\n",
       "    .dataframe thead th {\n",
       "        text-align: right;\n",
       "    }\n",
       "</style>\n",
       "<table border=\"1\" class=\"dataframe\">\n",
       "  <thead>\n",
       "    <tr style=\"text-align: right;\">\n",
       "      <th></th>\n",
       "      <th>Tên</th>\n",
       "      <th>Tuổi</th>\n",
       "      <th>Địa chỉ</th>\n",
       "      <th>Trình độ</th>\n",
       "      <th>Tên</th>\n",
       "      <th>Tuổi</th>\n",
       "      <th>Địa chỉ</th>\n",
       "      <th>Trình độ</th>\n",
       "    </tr>\n",
       "  </thead>\n",
       "  <tbody>\n",
       "    <tr>\n",
       "      <th>0</th>\n",
       "      <td>Hải</td>\n",
       "      <td>27.0</td>\n",
       "      <td>Hà Nội</td>\n",
       "      <td>Thạc sĩ</td>\n",
       "      <td>NaN</td>\n",
       "      <td>NaN</td>\n",
       "      <td>NaN</td>\n",
       "      <td>NaN</td>\n",
       "    </tr>\n",
       "    <tr>\n",
       "      <th>1</th>\n",
       "      <td>Trang</td>\n",
       "      <td>24.0</td>\n",
       "      <td>Đà Nẵng</td>\n",
       "      <td>Đại học</td>\n",
       "      <td>NaN</td>\n",
       "      <td>NaN</td>\n",
       "      <td>NaN</td>\n",
       "      <td>NaN</td>\n",
       "    </tr>\n",
       "    <tr>\n",
       "      <th>2</th>\n",
       "      <td>Minh</td>\n",
       "      <td>22.0</td>\n",
       "      <td>Huế</td>\n",
       "      <td>Cao đẳng</td>\n",
       "      <td>Tuấn</td>\n",
       "      <td>19.0</td>\n",
       "      <td>Hà Nội</td>\n",
       "      <td>Cử nhân</td>\n",
       "    </tr>\n",
       "    <tr>\n",
       "      <th>3</th>\n",
       "      <td>An</td>\n",
       "      <td>32.0</td>\n",
       "      <td>Cần Thơ</td>\n",
       "      <td>Tiến sĩ</td>\n",
       "      <td>Lan</td>\n",
       "      <td>21.0</td>\n",
       "      <td>Đà Nẵng</td>\n",
       "      <td>Cao đẳng</td>\n",
       "    </tr>\n",
       "    <tr>\n",
       "      <th>4</th>\n",
       "      <td>NaN</td>\n",
       "      <td>NaN</td>\n",
       "      <td>NaN</td>\n",
       "      <td>NaN</td>\n",
       "      <td>Dũng</td>\n",
       "      <td>23.0</td>\n",
       "      <td>Huế</td>\n",
       "      <td>Đại học</td>\n",
       "    </tr>\n",
       "    <tr>\n",
       "      <th>7</th>\n",
       "      <td>NaN</td>\n",
       "      <td>NaN</td>\n",
       "      <td>NaN</td>\n",
       "      <td>NaN</td>\n",
       "      <td>Hà</td>\n",
       "      <td>25.0</td>\n",
       "      <td>Cần Thơ</td>\n",
       "      <td>Thạc sĩ</td>\n",
       "    </tr>\n",
       "  </tbody>\n",
       "</table>\n",
       "</div>"
      ],
      "text/plain": [
       "     Tên  Tuổi  Địa chỉ  Trình độ   Tên  Tuổi  Địa chỉ  Trình độ\n",
       "0    Hải  27.0   Hà Nội   Thạc sĩ   NaN   NaN      NaN       NaN\n",
       "1  Trang  24.0  Đà Nẵng   Đại học   NaN   NaN      NaN       NaN\n",
       "2   Minh  22.0      Huế  Cao đẳng  Tuấn  19.0   Hà Nội   Cử nhân\n",
       "3     An  32.0  Cần Thơ   Tiến sĩ   Lan  21.0  Đà Nẵng  Cao đẳng\n",
       "4    NaN   NaN      NaN       NaN  Dũng  23.0      Huế   Đại học\n",
       "7    NaN   NaN      NaN       NaN    Hà  25.0  Cần Thơ   Thạc sĩ"
      ]
     },
     "execution_count": 32,
     "metadata": {},
     "output_type": "execute_result"
    }
   ],
   "source": [
    "res2 = pd.concat([df, df1], axis=1, sort=False)\n",
    "res2"
   ]
  },
  {
   "cell_type": "code",
   "execution_count": 34,
   "id": "1775a007",
   "metadata": {},
   "outputs": [
    {
     "data": {
      "text/html": [
       "<div>\n",
       "<style scoped>\n",
       "    .dataframe tbody tr th:only-of-type {\n",
       "        vertical-align: middle;\n",
       "    }\n",
       "\n",
       "    .dataframe tbody tr th {\n",
       "        vertical-align: top;\n",
       "    }\n",
       "\n",
       "    .dataframe thead th {\n",
       "        text-align: right;\n",
       "    }\n",
       "</style>\n",
       "<table border=\"1\" class=\"dataframe\">\n",
       "  <thead>\n",
       "    <tr style=\"text-align: right;\">\n",
       "      <th></th>\n",
       "      <th>Tên</th>\n",
       "      <th>Tuổi</th>\n",
       "      <th>Địa chỉ</th>\n",
       "      <th>Trình độ</th>\n",
       "    </tr>\n",
       "  </thead>\n",
       "  <tbody>\n",
       "    <tr>\n",
       "      <th>0</th>\n",
       "      <td>Hải</td>\n",
       "      <td>27</td>\n",
       "      <td>Hà Nội</td>\n",
       "      <td>Thạc sĩ</td>\n",
       "    </tr>\n",
       "    <tr>\n",
       "      <th>1</th>\n",
       "      <td>Trang</td>\n",
       "      <td>24</td>\n",
       "      <td>Đà Nẵng</td>\n",
       "      <td>Đại học</td>\n",
       "    </tr>\n",
       "    <tr>\n",
       "      <th>2</th>\n",
       "      <td>Minh</td>\n",
       "      <td>22</td>\n",
       "      <td>Huế</td>\n",
       "      <td>Cao đẳng</td>\n",
       "    </tr>\n",
       "    <tr>\n",
       "      <th>3</th>\n",
       "      <td>An</td>\n",
       "      <td>32</td>\n",
       "      <td>Cần Thơ</td>\n",
       "      <td>Tiến sĩ</td>\n",
       "    </tr>\n",
       "    <tr>\n",
       "      <th>4</th>\n",
       "      <td>Tuấn</td>\n",
       "      <td>19</td>\n",
       "      <td>Hà Nội</td>\n",
       "      <td>Cử nhân</td>\n",
       "    </tr>\n",
       "    <tr>\n",
       "      <th>5</th>\n",
       "      <td>Lan</td>\n",
       "      <td>21</td>\n",
       "      <td>Đà Nẵng</td>\n",
       "      <td>Cao đẳng</td>\n",
       "    </tr>\n",
       "    <tr>\n",
       "      <th>6</th>\n",
       "      <td>Dũng</td>\n",
       "      <td>23</td>\n",
       "      <td>Huế</td>\n",
       "      <td>Đại học</td>\n",
       "    </tr>\n",
       "    <tr>\n",
       "      <th>7</th>\n",
       "      <td>Hà</td>\n",
       "      <td>25</td>\n",
       "      <td>Cần Thơ</td>\n",
       "      <td>Thạc sĩ</td>\n",
       "    </tr>\n",
       "  </tbody>\n",
       "</table>\n",
       "</div>"
      ],
      "text/plain": [
       "     Tên  Tuổi  Địa chỉ  Trình độ\n",
       "0    Hải    27   Hà Nội   Thạc sĩ\n",
       "1  Trang    24  Đà Nẵng   Đại học\n",
       "2   Minh    22      Huế  Cao đẳng\n",
       "3     An    32  Cần Thơ   Tiến sĩ\n",
       "4   Tuấn    19   Hà Nội   Cử nhân\n",
       "5    Lan    21  Đà Nẵng  Cao đẳng\n",
       "6   Dũng    23      Huế   Đại học\n",
       "7     Hà    25  Cần Thơ   Thạc sĩ"
      ]
     },
     "execution_count": 34,
     "metadata": {},
     "output_type": "execute_result"
    }
   ],
   "source": [
    "res = pd.concat([df, df1], ignore_index=True)\n",
    "res"
   ]
  },
  {
   "cell_type": "code",
   "execution_count": 35,
   "id": "75eb09cc",
   "metadata": {},
   "outputs": [
    {
     "data": {
      "text/html": [
       "<div>\n",
       "<style scoped>\n",
       "    .dataframe tbody tr th:only-of-type {\n",
       "        vertical-align: middle;\n",
       "    }\n",
       "\n",
       "    .dataframe tbody tr th {\n",
       "        vertical-align: top;\n",
       "    }\n",
       "\n",
       "    .dataframe thead th {\n",
       "        text-align: right;\n",
       "    }\n",
       "</style>\n",
       "<table border=\"1\" class=\"dataframe\">\n",
       "  <thead>\n",
       "    <tr style=\"text-align: right;\">\n",
       "      <th></th>\n",
       "      <th></th>\n",
       "      <th>Tên</th>\n",
       "      <th>Tuổi</th>\n",
       "      <th>Địa chỉ</th>\n",
       "      <th>Trình độ</th>\n",
       "    </tr>\n",
       "  </thead>\n",
       "  <tbody>\n",
       "    <tr>\n",
       "      <th rowspan=\"4\" valign=\"top\">x</th>\n",
       "      <th>0</th>\n",
       "      <td>Hải</td>\n",
       "      <td>27</td>\n",
       "      <td>Hà Nội</td>\n",
       "      <td>Thạc sĩ</td>\n",
       "    </tr>\n",
       "    <tr>\n",
       "      <th>1</th>\n",
       "      <td>Trang</td>\n",
       "      <td>24</td>\n",
       "      <td>Đà Nẵng</td>\n",
       "      <td>Đại học</td>\n",
       "    </tr>\n",
       "    <tr>\n",
       "      <th>2</th>\n",
       "      <td>Minh</td>\n",
       "      <td>22</td>\n",
       "      <td>Huế</td>\n",
       "      <td>Cao đẳng</td>\n",
       "    </tr>\n",
       "    <tr>\n",
       "      <th>3</th>\n",
       "      <td>An</td>\n",
       "      <td>32</td>\n",
       "      <td>Cần Thơ</td>\n",
       "      <td>Tiến sĩ</td>\n",
       "    </tr>\n",
       "    <tr>\n",
       "      <th rowspan=\"4\" valign=\"top\">y</th>\n",
       "      <th>2</th>\n",
       "      <td>Tuấn</td>\n",
       "      <td>19</td>\n",
       "      <td>Hà Nội</td>\n",
       "      <td>Cử nhân</td>\n",
       "    </tr>\n",
       "    <tr>\n",
       "      <th>3</th>\n",
       "      <td>Lan</td>\n",
       "      <td>21</td>\n",
       "      <td>Đà Nẵng</td>\n",
       "      <td>Cao đẳng</td>\n",
       "    </tr>\n",
       "    <tr>\n",
       "      <th>4</th>\n",
       "      <td>Dũng</td>\n",
       "      <td>23</td>\n",
       "      <td>Huế</td>\n",
       "      <td>Đại học</td>\n",
       "    </tr>\n",
       "    <tr>\n",
       "      <th>7</th>\n",
       "      <td>Hà</td>\n",
       "      <td>25</td>\n",
       "      <td>Cần Thơ</td>\n",
       "      <td>Thạc sĩ</td>\n",
       "    </tr>\n",
       "  </tbody>\n",
       "</table>\n",
       "</div>"
      ],
      "text/plain": [
       "       Tên  Tuổi  Địa chỉ  Trình độ\n",
       "x 0    Hải    27   Hà Nội   Thạc sĩ\n",
       "  1  Trang    24  Đà Nẵng   Đại học\n",
       "  2   Minh    22      Huế  Cao đẳng\n",
       "  3     An    32  Cần Thơ   Tiến sĩ\n",
       "y 2   Tuấn    19   Hà Nội   Cử nhân\n",
       "  3    Lan    21  Đà Nẵng  Cao đẳng\n",
       "  4   Dũng    23      Huế   Đại học\n",
       "  7     Hà    25  Cần Thơ   Thạc sĩ"
      ]
     },
     "execution_count": 35,
     "metadata": {},
     "output_type": "execute_result"
    }
   ],
   "source": [
    "res = pd.concat(frames, keys=['x', 'y'])\n",
    "res"
   ]
  },
  {
   "cell_type": "markdown",
   "id": "a1b8cacc",
   "metadata": {},
   "source": [
    "MERGE"
   ]
  },
  {
   "cell_type": "code",
   "execution_count": 45,
   "id": "acce5406",
   "metadata": {},
   "outputs": [
    {
     "data": {
      "text/html": [
       "<div>\n",
       "<style scoped>\n",
       "    .dataframe tbody tr th:only-of-type {\n",
       "        vertical-align: middle;\n",
       "    }\n",
       "\n",
       "    .dataframe tbody tr th {\n",
       "        vertical-align: top;\n",
       "    }\n",
       "\n",
       "    .dataframe thead th {\n",
       "        text-align: right;\n",
       "    }\n",
       "</style>\n",
       "<table border=\"1\" class=\"dataframe\">\n",
       "  <thead>\n",
       "    <tr style=\"text-align: right;\">\n",
       "      <th></th>\n",
       "      <th>key</th>\n",
       "      <th>key1_x</th>\n",
       "      <th>Name</th>\n",
       "      <th>Age</th>\n",
       "      <th>key1_y</th>\n",
       "      <th>Address</th>\n",
       "      <th>Qualification</th>\n",
       "    </tr>\n",
       "  </thead>\n",
       "  <tbody>\n",
       "    <tr>\n",
       "      <th>0</th>\n",
       "      <td>K0</td>\n",
       "      <td>K0</td>\n",
       "      <td>Jai</td>\n",
       "      <td>27</td>\n",
       "      <td>K0</td>\n",
       "      <td>Nagpur</td>\n",
       "      <td>Btech</td>\n",
       "    </tr>\n",
       "    <tr>\n",
       "      <th>1</th>\n",
       "      <td>K1</td>\n",
       "      <td>K1</td>\n",
       "      <td>Princi</td>\n",
       "      <td>24</td>\n",
       "      <td>K0</td>\n",
       "      <td>Kanpur</td>\n",
       "      <td>B.A</td>\n",
       "    </tr>\n",
       "    <tr>\n",
       "      <th>2</th>\n",
       "      <td>K2</td>\n",
       "      <td>K0</td>\n",
       "      <td>Gaurav</td>\n",
       "      <td>22</td>\n",
       "      <td>K0</td>\n",
       "      <td>Allahabad</td>\n",
       "      <td>Bcom</td>\n",
       "    </tr>\n",
       "    <tr>\n",
       "      <th>3</th>\n",
       "      <td>K3</td>\n",
       "      <td>K1</td>\n",
       "      <td>Anuj</td>\n",
       "      <td>32</td>\n",
       "      <td>K0</td>\n",
       "      <td>Kannuaj</td>\n",
       "      <td>B.hons</td>\n",
       "    </tr>\n",
       "  </tbody>\n",
       "</table>\n",
       "</div>"
      ],
      "text/plain": [
       "  key key1_x    Name  Age key1_y    Address Qualification\n",
       "0  K0     K0     Jai   27     K0     Nagpur         Btech\n",
       "1  K1     K1  Princi   24     K0     Kanpur           B.A\n",
       "2  K2     K0  Gaurav   22     K0  Allahabad          Bcom\n",
       "3  K3     K1    Anuj   32     K0    Kannuaj        B.hons"
      ]
     },
     "execution_count": 45,
     "metadata": {},
     "output_type": "execute_result"
    }
   ],
   "source": [
    "import pandas as pd\n",
    "\n",
    "data1 = {'key': ['K0', 'K1', 'K2', 'K3'],\n",
    "         'key1': ['K0', 'K1', 'K0', 'K1'],\n",
    "         'Name':['Jai', 'Princi', 'Gaurav', 'Anuj'],\n",
    "        'Age':[27, 24, 22, 32],}\n",
    "\n",
    "data2 = {'key': ['K0', 'K1', 'K2', 'K3'],\n",
    "         'key1': ['K0', 'K0', 'K0', 'K0'],\n",
    "         'Address':['Nagpur', 'Kanpur', 'Allahabad', 'Kannuaj'],\n",
    "        'Qualification':['Btech', 'B.A', 'Bcom', 'B.hons']}\n",
    "\n",
    "df = pd.DataFrame(data1)\n",
    "\n",
    "df1 = pd.DataFrame(data2)\n",
    "\n",
    "res = pd.merge(df, df1, on='key')\n",
    "res"
   ]
  },
  {
   "cell_type": "code",
   "execution_count": 46,
   "id": "29ce962c",
   "metadata": {},
   "outputs": [
    {
     "data": {
      "text/html": [
       "<div>\n",
       "<style scoped>\n",
       "    .dataframe tbody tr th:only-of-type {\n",
       "        vertical-align: middle;\n",
       "    }\n",
       "\n",
       "    .dataframe tbody tr th {\n",
       "        vertical-align: top;\n",
       "    }\n",
       "\n",
       "    .dataframe thead th {\n",
       "        text-align: right;\n",
       "    }\n",
       "</style>\n",
       "<table border=\"1\" class=\"dataframe\">\n",
       "  <thead>\n",
       "    <tr style=\"text-align: right;\">\n",
       "      <th></th>\n",
       "      <th>key</th>\n",
       "      <th>key1</th>\n",
       "      <th>Name</th>\n",
       "      <th>Age</th>\n",
       "      <th>Address</th>\n",
       "      <th>Qualification</th>\n",
       "    </tr>\n",
       "  </thead>\n",
       "  <tbody>\n",
       "    <tr>\n",
       "      <th>0</th>\n",
       "      <td>K0</td>\n",
       "      <td>K0</td>\n",
       "      <td>Jai</td>\n",
       "      <td>27</td>\n",
       "      <td>Nagpur</td>\n",
       "      <td>Btech</td>\n",
       "    </tr>\n",
       "    <tr>\n",
       "      <th>1</th>\n",
       "      <td>K2</td>\n",
       "      <td>K0</td>\n",
       "      <td>Gaurav</td>\n",
       "      <td>22</td>\n",
       "      <td>Allahabad</td>\n",
       "      <td>Bcom</td>\n",
       "    </tr>\n",
       "  </tbody>\n",
       "</table>\n",
       "</div>"
      ],
      "text/plain": [
       "  key key1    Name  Age    Address Qualification\n",
       "0  K0   K0     Jai   27     Nagpur         Btech\n",
       "1  K2   K0  Gaurav   22  Allahabad          Bcom"
      ]
     },
     "execution_count": 46,
     "metadata": {},
     "output_type": "execute_result"
    }
   ],
   "source": [
    "res1 = pd.merge(df, df1, on=['key', 'key1'])\n",
    "res1"
   ]
  },
  {
   "cell_type": "code",
   "execution_count": 47,
   "id": "b77b168a",
   "metadata": {},
   "outputs": [
    {
     "data": {
      "text/html": [
       "<div>\n",
       "<style scoped>\n",
       "    .dataframe tbody tr th:only-of-type {\n",
       "        vertical-align: middle;\n",
       "    }\n",
       "\n",
       "    .dataframe tbody tr th {\n",
       "        vertical-align: top;\n",
       "    }\n",
       "\n",
       "    .dataframe thead th {\n",
       "        text-align: right;\n",
       "    }\n",
       "</style>\n",
       "<table border=\"1\" class=\"dataframe\">\n",
       "  <thead>\n",
       "    <tr style=\"text-align: right;\">\n",
       "      <th></th>\n",
       "      <th>key</th>\n",
       "      <th>key1</th>\n",
       "      <th>Name</th>\n",
       "      <th>Age</th>\n",
       "      <th>Address</th>\n",
       "      <th>Qualification</th>\n",
       "    </tr>\n",
       "  </thead>\n",
       "  <tbody>\n",
       "    <tr>\n",
       "      <th>0</th>\n",
       "      <td>K0</td>\n",
       "      <td>K0</td>\n",
       "      <td>Jai</td>\n",
       "      <td>27.0</td>\n",
       "      <td>Nagpur</td>\n",
       "      <td>Btech</td>\n",
       "    </tr>\n",
       "    <tr>\n",
       "      <th>1</th>\n",
       "      <td>K1</td>\n",
       "      <td>K0</td>\n",
       "      <td>NaN</td>\n",
       "      <td>NaN</td>\n",
       "      <td>Kanpur</td>\n",
       "      <td>B.A</td>\n",
       "    </tr>\n",
       "    <tr>\n",
       "      <th>2</th>\n",
       "      <td>K2</td>\n",
       "      <td>K0</td>\n",
       "      <td>Gaurav</td>\n",
       "      <td>22.0</td>\n",
       "      <td>Allahabad</td>\n",
       "      <td>Bcom</td>\n",
       "    </tr>\n",
       "    <tr>\n",
       "      <th>3</th>\n",
       "      <td>K3</td>\n",
       "      <td>K0</td>\n",
       "      <td>NaN</td>\n",
       "      <td>NaN</td>\n",
       "      <td>Kannuaj</td>\n",
       "      <td>B.hons</td>\n",
       "    </tr>\n",
       "  </tbody>\n",
       "</table>\n",
       "</div>"
      ],
      "text/plain": [
       "  key key1    Name   Age    Address Qualification\n",
       "0  K0   K0     Jai  27.0     Nagpur         Btech\n",
       "1  K1   K0     NaN   NaN     Kanpur           B.A\n",
       "2  K2   K0  Gaurav  22.0  Allahabad          Bcom\n",
       "3  K3   K0     NaN   NaN    Kannuaj        B.hons"
      ]
     },
     "execution_count": 47,
     "metadata": {},
     "output_type": "execute_result"
    }
   ],
   "source": [
    "res1 = pd.merge(df, df1, how='right', on=['key', 'key1'])\n",
    "res1"
   ]
  },
  {
   "cell_type": "code",
   "execution_count": null,
   "id": "50c25fe3",
   "metadata": {},
   "outputs": [
    {
     "data": {
      "text/html": [
       "<div>\n",
       "<style scoped>\n",
       "    .dataframe tbody tr th:only-of-type {\n",
       "        vertical-align: middle;\n",
       "    }\n",
       "\n",
       "    .dataframe tbody tr th {\n",
       "        vertical-align: top;\n",
       "    }\n",
       "\n",
       "    .dataframe thead th {\n",
       "        text-align: right;\n",
       "    }\n",
       "</style>\n",
       "<table border=\"1\" class=\"dataframe\">\n",
       "  <thead>\n",
       "    <tr style=\"text-align: right;\">\n",
       "      <th></th>\n",
       "      <th>key</th>\n",
       "      <th>key1</th>\n",
       "      <th>Name</th>\n",
       "      <th>Age</th>\n",
       "      <th>Address</th>\n",
       "      <th>Qualification</th>\n",
       "    </tr>\n",
       "  </thead>\n",
       "  <tbody>\n",
       "    <tr>\n",
       "      <th>0</th>\n",
       "      <td>K0</td>\n",
       "      <td>K0</td>\n",
       "      <td>Jai</td>\n",
       "      <td>27</td>\n",
       "      <td>Nagpur</td>\n",
       "      <td>Btech</td>\n",
       "    </tr>\n",
       "    <tr>\n",
       "      <th>1</th>\n",
       "      <td>K2</td>\n",
       "      <td>K0</td>\n",
       "      <td>Gaurav</td>\n",
       "      <td>22</td>\n",
       "      <td>Allahabad</td>\n",
       "      <td>Bcom</td>\n",
       "    </tr>\n",
       "  </tbody>\n",
       "</table>\n",
       "</div>"
      ],
      "text/plain": [
       "  key key1    Name  Age    Address Qualification\n",
       "0  K0   K0     Jai   27     Nagpur         Btech\n",
       "1  K2   K0  Gaurav   22  Allahabad          Bcom"
      ]
     },
     "execution_count": 48,
     "metadata": {},
     "output_type": "execute_result"
    }
   ],
   "source": [
    "res3 = pd.merge(df, df1, how='inner', on=['key', 'key1'])\n",
    "res3"
   ]
  },
  {
   "cell_type": "markdown",
   "id": "cda1c35d",
   "metadata": {},
   "source": [
    "MARK"
   ]
  },
  {
   "cell_type": "code",
   "execution_count": 50,
   "id": "f772ab98",
   "metadata": {},
   "outputs": [
    {
     "name": "stdout",
     "output_type": "stream",
     "text": [
      "      Tên  Tuổi\n",
      "K0    Hải    27\n",
      "K1  Trang    24\n",
      "K2   Minh    22\n",
      "K3     An    32 \n",
      "     Địa chỉ Trình độ\n",
      "K0   Hà Nội  Thạc sĩ\n",
      "K2  Đà Nẵng  Tiến sĩ\n",
      "K3      Huế  Cử nhân\n",
      "K4  Cần Thơ    Kỹ sư\n"
     ]
    }
   ],
   "source": [
    "du_lieu1 = {\n",
    "    'Tên': ['Hải', 'Trang', 'Minh', 'An'],\n",
    "    'Tuổi': [27, 24, 22, 32]\n",
    "}\n",
    "\n",
    "du_lieu2 = {\n",
    "    'Địa chỉ': ['Hà Nội', 'Đà Nẵng', 'Huế', 'Cần Thơ'],\n",
    "    'Trình độ': ['Thạc sĩ', 'Tiến sĩ', 'Cử nhân', 'Kỹ sư']\n",
    "}\n",
    "\n",
    "df = pd.DataFrame(du_lieu1, index=['K0', 'K1', 'K2', 'K3'])\n",
    "df1 = pd.DataFrame(du_lieu2, index=['K0', 'K2', 'K3', 'K4'])\n",
    "\n",
    "print(df, \"\\n\", df1)\n"
   ]
  },
  {
   "cell_type": "code",
   "execution_count": 51,
   "id": "d6fa3674",
   "metadata": {},
   "outputs": [
    {
     "data": {
      "text/html": [
       "<div>\n",
       "<style scoped>\n",
       "    .dataframe tbody tr th:only-of-type {\n",
       "        vertical-align: middle;\n",
       "    }\n",
       "\n",
       "    .dataframe tbody tr th {\n",
       "        vertical-align: top;\n",
       "    }\n",
       "\n",
       "    .dataframe thead th {\n",
       "        text-align: right;\n",
       "    }\n",
       "</style>\n",
       "<table border=\"1\" class=\"dataframe\">\n",
       "  <thead>\n",
       "    <tr style=\"text-align: right;\">\n",
       "      <th></th>\n",
       "      <th>Tên</th>\n",
       "      <th>Tuổi</th>\n",
       "      <th>Địa chỉ</th>\n",
       "      <th>Trình độ</th>\n",
       "    </tr>\n",
       "  </thead>\n",
       "  <tbody>\n",
       "    <tr>\n",
       "      <th>K0</th>\n",
       "      <td>Hải</td>\n",
       "      <td>27</td>\n",
       "      <td>Hà Nội</td>\n",
       "      <td>Thạc sĩ</td>\n",
       "    </tr>\n",
       "    <tr>\n",
       "      <th>K1</th>\n",
       "      <td>Trang</td>\n",
       "      <td>24</td>\n",
       "      <td>NaN</td>\n",
       "      <td>NaN</td>\n",
       "    </tr>\n",
       "    <tr>\n",
       "      <th>K2</th>\n",
       "      <td>Minh</td>\n",
       "      <td>22</td>\n",
       "      <td>Đà Nẵng</td>\n",
       "      <td>Tiến sĩ</td>\n",
       "    </tr>\n",
       "    <tr>\n",
       "      <th>K3</th>\n",
       "      <td>An</td>\n",
       "      <td>32</td>\n",
       "      <td>Huế</td>\n",
       "      <td>Cử nhân</td>\n",
       "    </tr>\n",
       "  </tbody>\n",
       "</table>\n",
       "</div>"
      ],
      "text/plain": [
       "      Tên  Tuổi  Địa chỉ Trình độ\n",
       "K0    Hải    27   Hà Nội  Thạc sĩ\n",
       "K1  Trang    24      NaN      NaN\n",
       "K2   Minh    22  Đà Nẵng  Tiến sĩ\n",
       "K3     An    32      Huế  Cử nhân"
      ]
     },
     "execution_count": 51,
     "metadata": {},
     "output_type": "execute_result"
    }
   ],
   "source": [
    "res = df.join(df1)\n",
    "res"
   ]
  },
  {
   "cell_type": "code",
   "execution_count": 52,
   "id": "70e1978a",
   "metadata": {},
   "outputs": [
    {
     "data": {
      "text/html": [
       "<div>\n",
       "<style scoped>\n",
       "    .dataframe tbody tr th:only-of-type {\n",
       "        vertical-align: middle;\n",
       "    }\n",
       "\n",
       "    .dataframe tbody tr th {\n",
       "        vertical-align: top;\n",
       "    }\n",
       "\n",
       "    .dataframe thead th {\n",
       "        text-align: right;\n",
       "    }\n",
       "</style>\n",
       "<table border=\"1\" class=\"dataframe\">\n",
       "  <thead>\n",
       "    <tr style=\"text-align: right;\">\n",
       "      <th></th>\n",
       "      <th>Tên</th>\n",
       "      <th>Tuổi</th>\n",
       "      <th>Địa chỉ</th>\n",
       "      <th>Trình độ</th>\n",
       "    </tr>\n",
       "  </thead>\n",
       "  <tbody>\n",
       "    <tr>\n",
       "      <th>K0</th>\n",
       "      <td>Hải</td>\n",
       "      <td>27.0</td>\n",
       "      <td>Hà Nội</td>\n",
       "      <td>Thạc sĩ</td>\n",
       "    </tr>\n",
       "    <tr>\n",
       "      <th>K1</th>\n",
       "      <td>Trang</td>\n",
       "      <td>24.0</td>\n",
       "      <td>NaN</td>\n",
       "      <td>NaN</td>\n",
       "    </tr>\n",
       "    <tr>\n",
       "      <th>K2</th>\n",
       "      <td>Minh</td>\n",
       "      <td>22.0</td>\n",
       "      <td>Đà Nẵng</td>\n",
       "      <td>Tiến sĩ</td>\n",
       "    </tr>\n",
       "    <tr>\n",
       "      <th>K3</th>\n",
       "      <td>An</td>\n",
       "      <td>32.0</td>\n",
       "      <td>Huế</td>\n",
       "      <td>Cử nhân</td>\n",
       "    </tr>\n",
       "    <tr>\n",
       "      <th>K4</th>\n",
       "      <td>NaN</td>\n",
       "      <td>NaN</td>\n",
       "      <td>Cần Thơ</td>\n",
       "      <td>Kỹ sư</td>\n",
       "    </tr>\n",
       "  </tbody>\n",
       "</table>\n",
       "</div>"
      ],
      "text/plain": [
       "      Tên  Tuổi  Địa chỉ Trình độ\n",
       "K0    Hải  27.0   Hà Nội  Thạc sĩ\n",
       "K1  Trang  24.0      NaN      NaN\n",
       "K2   Minh  22.0  Đà Nẵng  Tiến sĩ\n",
       "K3     An  32.0      Huế  Cử nhân\n",
       "K4    NaN   NaN  Cần Thơ    Kỹ sư"
      ]
     },
     "execution_count": 52,
     "metadata": {},
     "output_type": "execute_result"
    }
   ],
   "source": [
    "res1 = df.join(df1, how='outer')\n",
    "res1"
   ]
  },
  {
   "cell_type": "markdown",
   "id": "d0cb7242",
   "metadata": {},
   "source": [
    "SORT"
   ]
  },
  {
   "cell_type": "code",
   "execution_count": 55,
   "id": "1918eb52",
   "metadata": {},
   "outputs": [
    {
     "name": "stdout",
     "output_type": "stream",
     "text": [
      "     Tên  Tuổi  Điểm\n",
      "0  Nghĩa    25    85\n",
      "1   Minh    30    90\n",
      "2     An    35    95\n",
      "3  Trang    40    80\n"
     ]
    }
   ],
   "source": [
    "data = {'Tên': ['Nghĩa', 'Minh', 'An', 'Trang'],\n",
    "        'Tuổi': [25, 30, 35, 40],\n",
    "        'Điểm': [85, 90, 95, 80]}\n",
    "df = pd.DataFrame(data)\n",
    "\n",
    "sorted_df = df.sort_values(by='Tuổi')\n",
    "print(sorted_df)"
   ]
  },
  {
   "cell_type": "code",
   "execution_count": 56,
   "id": "d1b26c80",
   "metadata": {},
   "outputs": [
    {
     "name": "stdout",
     "output_type": "stream",
     "text": [
      "     Tên  Tuổi  Điểm\n",
      "3  Trang    40    80\n",
      "2     An    35    95\n",
      "1   Minh    30    90\n",
      "0  Nghĩa    25    85\n"
     ]
    }
   ],
   "source": [
    "sorted_df = df.sort_values(by='Tuổi',ascending=False)\n",
    "print(sorted_df)"
   ]
  },
  {
   "cell_type": "code",
   "execution_count": 57,
   "id": "d76a4e94",
   "metadata": {},
   "outputs": [
    {
     "name": "stdout",
     "output_type": "stream",
     "text": [
      "     Tên  Tuổi  Điểm\n",
      "0  Nghĩa    25    85\n",
      "1   Minh    30    90\n",
      "2     An    35    95\n",
      "3  Trang    40    80\n"
     ]
    }
   ],
   "source": [
    "sorted_df = df.sort_values(by=['Tuổi', 'Điểm'])\n",
    "print(sorted_df)"
   ]
  },
  {
   "cell_type": "code",
   "execution_count": 59,
   "id": "4392202a",
   "metadata": {},
   "outputs": [
    {
     "name": "stdout",
     "output_type": "stream",
     "text": [
      "     Tên  Tuổi  Điểm\n",
      "3  Trang    40    80\n",
      "2     An    35    95\n",
      "1   Minh    30    90\n",
      "0  Nghĩa    25    85\n"
     ]
    }
   ],
   "source": [
    "df_sorted_by_index_desc = df.sort_index(ascending=False)\n",
    "print(df_sorted_by_index_desc)"
   ]
  },
  {
   "cell_type": "code",
   "execution_count": null,
   "id": "5c45742e",
   "metadata": {},
   "outputs": [
    {
     "name": "stdout",
     "output_type": "stream",
     "text": [
      "     Tên  Tuổi  Điểm\n",
      "0  Nghĩa    25    85\n",
      "1   Minh    30    90\n",
      "2     An    35    95\n",
      "3  Trang    40    80\n"
     ]
    }
   ],
   "source": [
    "sorted_df = df.sort_values(by='Tuổi', kind='quicksort') #tương tự với mergesort, heapsort\n",
    "print(sorted_df)"
   ]
  },
  {
   "cell_type": "code",
   "execution_count": 64,
   "id": "0b0e1968",
   "metadata": {},
   "outputs": [
    {
     "name": "stdout",
     "output_type": "stream",
     "text": [
      "     Tên  Tuổi  Điểm\n",
      "2     An    35    95\n",
      "1   Minh    30    90\n",
      "0  Nghĩa    25    85\n",
      "3  Trang    40    80\n"
     ]
    }
   ],
   "source": [
    "sorted_df = df.sort_values(by='Tên', key=lambda col: col.str.lower())\n",
    "print(sorted_df)"
   ]
  },
  {
   "cell_type": "markdown",
   "id": "ad8cb2dc",
   "metadata": {},
   "source": [
    "PIVOT"
   ]
  },
  {
   "cell_type": "code",
   "execution_count": 70,
   "id": "7eb2f15a",
   "metadata": {},
   "outputs": [],
   "source": [
    "df = pd.DataFrame({\n",
    "    'Sản phẩm': ['Cà rốt', 'Bông cải', 'Chuối', 'Chuối', 'Đậu', 'Cam', 'Bông cải', 'Chuối'],\n",
    "    'Loại': ['Rau', 'Rau', 'Trái cây', 'Trái cây', 'Rau', 'Trái cây', 'Rau', 'Trái cây'],\n",
    "    'Số lượng': [8, 5, 3, 4, 5, 9, 11, 8],\n",
    "    'Doanh thu': [270, 239, 617, 384, 626, 610, 62, 90]\n",
    "})\n"
   ]
  },
  {
   "cell_type": "code",
   "execution_count": 69,
   "id": "75ba9eb1",
   "metadata": {},
   "outputs": [
    {
     "data": {
      "text/html": [
       "<div>\n",
       "<style scoped>\n",
       "    .dataframe tbody tr th:only-of-type {\n",
       "        vertical-align: middle;\n",
       "    }\n",
       "\n",
       "    .dataframe tbody tr th {\n",
       "        vertical-align: top;\n",
       "    }\n",
       "\n",
       "    .dataframe thead th {\n",
       "        text-align: right;\n",
       "    }\n",
       "</style>\n",
       "<table border=\"1\" class=\"dataframe\">\n",
       "  <thead>\n",
       "    <tr style=\"text-align: right;\">\n",
       "      <th></th>\n",
       "      <th>Doanh thu</th>\n",
       "    </tr>\n",
       "    <tr>\n",
       "      <th>Sản phẩm</th>\n",
       "      <th></th>\n",
       "    </tr>\n",
       "  </thead>\n",
       "  <tbody>\n",
       "    <tr>\n",
       "      <th>Bông cải</th>\n",
       "      <td>301</td>\n",
       "    </tr>\n",
       "    <tr>\n",
       "      <th>Cam</th>\n",
       "      <td>610</td>\n",
       "    </tr>\n",
       "    <tr>\n",
       "      <th>Chuối</th>\n",
       "      <td>1091</td>\n",
       "    </tr>\n",
       "    <tr>\n",
       "      <th>Cà rốt</th>\n",
       "      <td>270</td>\n",
       "    </tr>\n",
       "    <tr>\n",
       "      <th>Đậu</th>\n",
       "      <td>626</td>\n",
       "    </tr>\n",
       "  </tbody>\n",
       "</table>\n",
       "</div>"
      ],
      "text/plain": [
       "          Doanh thu\n",
       "Sản phẩm           \n",
       "Bông cải        301\n",
       "Cam             610\n",
       "Chuối          1091\n",
       "Cà rốt          270\n",
       "Đậu             626"
      ]
     },
     "execution_count": 69,
     "metadata": {},
     "output_type": "execute_result"
    }
   ],
   "source": [
    "pivot1 = df.pivot_table(index=['Sản phẩm'], values=['Doanh thu'], aggfunc='sum')\n",
    "pivot1"
   ]
  },
  {
   "cell_type": "code",
   "execution_count": 71,
   "id": "bf4fdecf",
   "metadata": {},
   "outputs": [
    {
     "data": {
      "text/html": [
       "<div>\n",
       "<style scoped>\n",
       "    .dataframe tbody tr th:only-of-type {\n",
       "        vertical-align: middle;\n",
       "    }\n",
       "\n",
       "    .dataframe tbody tr th {\n",
       "        vertical-align: top;\n",
       "    }\n",
       "\n",
       "    .dataframe thead th {\n",
       "        text-align: right;\n",
       "    }\n",
       "</style>\n",
       "<table border=\"1\" class=\"dataframe\">\n",
       "  <thead>\n",
       "    <tr style=\"text-align: right;\">\n",
       "      <th></th>\n",
       "      <th>Doanh thu</th>\n",
       "    </tr>\n",
       "    <tr>\n",
       "      <th>Loại</th>\n",
       "      <th></th>\n",
       "    </tr>\n",
       "  </thead>\n",
       "  <tbody>\n",
       "    <tr>\n",
       "      <th>Rau</th>\n",
       "      <td>1197</td>\n",
       "    </tr>\n",
       "    <tr>\n",
       "      <th>Trái cây</th>\n",
       "      <td>1701</td>\n",
       "    </tr>\n",
       "  </tbody>\n",
       "</table>\n",
       "</div>"
      ],
      "text/plain": [
       "          Doanh thu\n",
       "Loại               \n",
       "Rau            1197\n",
       "Trái cây       1701"
      ]
     },
     "execution_count": 71,
     "metadata": {},
     "output_type": "execute_result"
    }
   ],
   "source": [
    "pivot2 = df.pivot_table(index=['Loại'], values=['Doanh thu'], aggfunc='sum')\n",
    "pivot2"
   ]
  },
  {
   "cell_type": "code",
   "execution_count": 72,
   "id": "85ecd89f",
   "metadata": {},
   "outputs": [
    {
     "data": {
      "text/html": [
       "<div>\n",
       "<style scoped>\n",
       "    .dataframe tbody tr th:only-of-type {\n",
       "        vertical-align: middle;\n",
       "    }\n",
       "\n",
       "    .dataframe tbody tr th {\n",
       "        vertical-align: top;\n",
       "    }\n",
       "\n",
       "    .dataframe thead th {\n",
       "        text-align: right;\n",
       "    }\n",
       "</style>\n",
       "<table border=\"1\" class=\"dataframe\">\n",
       "  <thead>\n",
       "    <tr style=\"text-align: right;\">\n",
       "      <th></th>\n",
       "      <th></th>\n",
       "      <th>Doanh thu</th>\n",
       "    </tr>\n",
       "    <tr>\n",
       "      <th>Sản phẩm</th>\n",
       "      <th>Loại</th>\n",
       "      <th></th>\n",
       "    </tr>\n",
       "  </thead>\n",
       "  <tbody>\n",
       "    <tr>\n",
       "      <th>Bông cải</th>\n",
       "      <th>Rau</th>\n",
       "      <td>301</td>\n",
       "    </tr>\n",
       "    <tr>\n",
       "      <th>Cam</th>\n",
       "      <th>Trái cây</th>\n",
       "      <td>610</td>\n",
       "    </tr>\n",
       "    <tr>\n",
       "      <th>Chuối</th>\n",
       "      <th>Trái cây</th>\n",
       "      <td>1091</td>\n",
       "    </tr>\n",
       "    <tr>\n",
       "      <th>Cà rốt</th>\n",
       "      <th>Rau</th>\n",
       "      <td>270</td>\n",
       "    </tr>\n",
       "    <tr>\n",
       "      <th>Đậu</th>\n",
       "      <th>Rau</th>\n",
       "      <td>626</td>\n",
       "    </tr>\n",
       "  </tbody>\n",
       "</table>\n",
       "</div>"
      ],
      "text/plain": [
       "                   Doanh thu\n",
       "Sản phẩm Loại               \n",
       "Bông cải Rau             301\n",
       "Cam      Trái cây        610\n",
       "Chuối    Trái cây       1091\n",
       "Cà rốt   Rau             270\n",
       "Đậu      Rau             626"
      ]
     },
     "execution_count": 72,
     "metadata": {},
     "output_type": "execute_result"
    }
   ],
   "source": [
    "pivot3 = df.pivot_table(index=['Sản phẩm', 'Loại'], values=['Doanh thu'], aggfunc='sum')\n",
    "pivot3"
   ]
  },
  {
   "cell_type": "code",
   "execution_count": 73,
   "id": "72d44bf2",
   "metadata": {},
   "outputs": [
    {
     "data": {
      "text/html": [
       "<div>\n",
       "<style scoped>\n",
       "    .dataframe tbody tr th:only-of-type {\n",
       "        vertical-align: middle;\n",
       "    }\n",
       "\n",
       "    .dataframe tbody tr th {\n",
       "        vertical-align: top;\n",
       "    }\n",
       "\n",
       "    .dataframe thead tr th {\n",
       "        text-align: left;\n",
       "    }\n",
       "\n",
       "    .dataframe thead tr:last-of-type th {\n",
       "        text-align: right;\n",
       "    }\n",
       "</style>\n",
       "<table border=\"1\" class=\"dataframe\">\n",
       "  <thead>\n",
       "    <tr>\n",
       "      <th></th>\n",
       "      <th colspan=\"3\" halign=\"left\">Doanh thu</th>\n",
       "    </tr>\n",
       "    <tr>\n",
       "      <th></th>\n",
       "      <th>mean</th>\n",
       "      <th>median</th>\n",
       "      <th>min</th>\n",
       "    </tr>\n",
       "    <tr>\n",
       "      <th>Loại</th>\n",
       "      <th></th>\n",
       "      <th></th>\n",
       "      <th></th>\n",
       "    </tr>\n",
       "  </thead>\n",
       "  <tbody>\n",
       "    <tr>\n",
       "      <th>Rau</th>\n",
       "      <td>299.25</td>\n",
       "      <td>254.5</td>\n",
       "      <td>62</td>\n",
       "    </tr>\n",
       "    <tr>\n",
       "      <th>Trái cây</th>\n",
       "      <td>425.25</td>\n",
       "      <td>497.0</td>\n",
       "      <td>90</td>\n",
       "    </tr>\n",
       "  </tbody>\n",
       "</table>\n",
       "</div>"
      ],
      "text/plain": [
       "         Doanh thu           \n",
       "              mean median min\n",
       "Loại                         \n",
       "Rau         299.25  254.5  62\n",
       "Trái cây    425.25  497.0  90"
      ]
     },
     "execution_count": 73,
     "metadata": {},
     "output_type": "execute_result"
    }
   ],
   "source": [
    "pivot4 = df.pivot_table(index=['Loại'], values=['Doanh thu'], aggfunc={'median', 'mean', 'min'})\n",
    "pivot4"
   ]
  },
  {
   "cell_type": "code",
   "execution_count": 74,
   "id": "9da8d01a",
   "metadata": {},
   "outputs": [
    {
     "name": "stdout",
     "output_type": "stream",
     "text": [
      "0    H\n",
      "1    u\n",
      "2    u\n",
      "3    n\n",
      "4    g\n",
      "5    h\n",
      "6    i\n",
      "7    a\n",
      "dtype: object\n"
     ]
    }
   ],
   "source": [
    "import pandas as pd\n",
    "import numpy as np\n",
    "\n",
    "data = np.array(['H','u','u','n','g','h','i','a'])\n",
    "\n",
    "ser = pd.Series(data)\n",
    "print(ser)"
   ]
  },
  {
   "cell_type": "code",
   "execution_count": 75,
   "id": "11689528",
   "metadata": {},
   "outputs": [
    {
     "name": "stdout",
     "output_type": "stream",
     "text": [
      "0     1.00\n",
      "1     3.25\n",
      "2     5.50\n",
      "3     7.75\n",
      "4    10.00\n",
      "dtype: float64\n"
     ]
    }
   ],
   "source": [
    "ser = pd.Series(np.linspace(1, 10, 5))\n",
    "print(ser)"
   ]
  },
  {
   "cell_type": "code",
   "execution_count": 76,
   "id": "b2f96e80",
   "metadata": {},
   "outputs": [
    {
     "name": "stdout",
     "output_type": "stream",
     "text": [
      "0    1\n",
      "1    2\n",
      "2    3\n",
      "3    4\n",
      "dtype: int64\n"
     ]
    }
   ],
   "source": [
    "ser = pd.Series(range(1, 5))\n",
    "print(ser)"
   ]
  },
  {
   "cell_type": "code",
   "execution_count": 78,
   "id": "c9283b24",
   "metadata": {},
   "outputs": [
    {
     "name": "stdout",
     "output_type": "stream",
     "text": [
      "1     1\n",
      "2     4\n",
      "3     7\n",
      "4    10\n",
      "5    13\n",
      "6    16\n",
      "7    19\n",
      "dtype: int64\n"
     ]
    }
   ],
   "source": [
    "import pandas as pd\n",
    "ser=pd.Series(range(1,20,3), index=[x for x in '1234567'])\n",
    "print(ser)"
   ]
  },
  {
   "cell_type": "code",
   "execution_count": 81,
   "id": "5581e73a",
   "metadata": {},
   "outputs": [
    {
     "name": "stdout",
     "output_type": "stream",
     "text": [
      "4\n",
      "1     1\n",
      "2     4\n",
      "3     7\n",
      "4    10\n",
      "dtype: int64\n",
      "1     1\n",
      "2     4\n",
      "3     7\n",
      "4    10\n",
      "5    13\n",
      "6    16\n",
      "7    19\n",
      "dtype: int64\n"
     ]
    },
    {
     "name": "stderr",
     "output_type": "stream",
     "text": [
      "C:\\Users\\nguye\\AppData\\Local\\Temp\\ipykernel_3404\\565336917.py:1: FutureWarning: Series.__getitem__ treating keys as positions is deprecated. In a future version, integer keys will always be treated as labels (consistent with DataFrame behavior). To access a value by position, use `ser.iloc[pos]`\n",
      "  print(ser[1])\n"
     ]
    }
   ],
   "source": [
    "print(ser[1])\n",
    "print(ser[:4])\n",
    "print(ser[-10:])"
   ]
  },
  {
   "cell_type": "code",
   "execution_count": 84,
   "id": "46269947",
   "metadata": {},
   "outputs": [
    {
     "data": {
      "text/plain": [
       "0    Avery Bradley\n",
       "1      Jae Crowder\n",
       "2     John Holland\n",
       "3      R.J. Hunter\n",
       "4    Jonas Jerebko\n",
       "Name: Name, dtype: object"
      ]
     },
     "execution_count": 84,
     "metadata": {},
     "output_type": "execute_result"
    }
   ],
   "source": [
    "df = pd.read_csv(\"nba.csv\")\n",
    "ser = pd.Series(df['Name'])\n",
    "ser.head(2)\n",
    "ser[:5]\n"
   ]
  },
  {
   "cell_type": "code",
   "execution_count": 85,
   "id": "828e997b",
   "metadata": {},
   "outputs": [
    {
     "data": {
      "text/plain": [
       "0    Avery Bradley\n",
       "1      Jae Crowder\n",
       "2     John Holland\n",
       "3      R.J. Hunter\n",
       "4    Jonas Jerebko\n",
       "5     Amir Johnson\n",
       "6    Jordan Mickey\n",
       "7     Kelly Olynyk\n",
       "8     Terry Rozier\n",
       "9     Marcus Smart\n",
       "Name: Name, dtype: object"
      ]
     },
     "execution_count": 85,
     "metadata": {},
     "output_type": "execute_result"
    }
   ],
   "source": [
    "df = pd.read_csv(\"nba.csv\")\n",
    "ser = pd.Series(df['Name'])\n",
    "ser.head(10)"
   ]
  },
  {
   "cell_type": "code",
   "execution_count": 86,
   "id": "980adc59",
   "metadata": {},
   "outputs": [
    {
     "name": "stdout",
     "output_type": "stream",
     "text": [
      "a    3\n",
      "d    6\n",
      "dtype: int64\n"
     ]
    }
   ],
   "source": [
    "ser = pd.Series(np.arange(3, 9), index=['a', 'b', 'c', 'd', 'e', 'f'])\n",
    "print(ser[['a', 'd']])"
   ]
  },
  {
   "cell_type": "code",
   "execution_count": 89,
   "id": "32fc814a",
   "metadata": {},
   "outputs": [
    {
     "name": "stdout",
     "output_type": "stream",
     "text": [
      "10    H\n",
      "11    u\n",
      "12    u\n",
      "13    n\n",
      "14    g\n",
      "15    h\n",
      "16    i\n",
      "17    a\n",
      "dtype: object\n"
     ]
    }
   ],
   "source": [
    "data = np.array(['H', 'u', 'u', 'n', 'g', 'h', 'i', 'a'])\n",
    "ser = pd.Series(data, index=[10, 11, 12, 13, 14, 15, 16, 17])\n",
    "print(ser[[10, 11, 12, 13, 14, 15, 16, 17]])\n"
   ]
  },
  {
   "cell_type": "markdown",
   "id": "ba338879",
   "metadata": {},
   "source": [
    "Binary operation (các phép toán tử + - * / > < như numpy hoặc các phép toán tử)"
   ]
  },
  {
   "cell_type": "code",
   "execution_count": 90,
   "id": "01d65486",
   "metadata": {},
   "outputs": [
    {
     "name": "stdout",
     "output_type": "stream",
     "text": [
      "     A     B\n",
      "0  2.0   NaN\n",
      "1  NaN   NaN\n",
      "2  NaN  12.0\n"
     ]
    }
   ],
   "source": [
    "import pandas as pd \n",
    "df1 = pd.DataFrame({'A': [1, 2, None], 'B': [4, None, 6]})\n",
    "df2 = pd.DataFrame({'A': [1, None, 3], 'B': [None, 5, 6]})\n",
    "\n",
    "result = df1 + df2\n",
    "print(result)"
   ]
  },
  {
   "cell_type": "code",
   "execution_count": 91,
   "id": "21772915",
   "metadata": {},
   "outputs": [
    {
     "name": "stdout",
     "output_type": "stream",
     "text": [
      "0    False\n",
      "1    False\n",
      "2     True\n",
      "dtype: bool\n"
     ]
    }
   ],
   "source": [
    "s1 = pd.Series([True, False, True])\n",
    "s2 = pd.Series([False, False, True])\n",
    "\n",
    "result = s1 & s2\n",
    "print(result)"
   ]
  },
  {
   "cell_type": "code",
   "execution_count": 92,
   "id": "c40b6ef0",
   "metadata": {},
   "outputs": [
    {
     "name": "stdout",
     "output_type": "stream",
     "text": [
      "     A     B\n",
      "0  2.0   NaN\n",
      "1  NaN   NaN\n",
      "2  NaN  12.0\n"
     ]
    }
   ],
   "source": [
    "df1 = pd.DataFrame({'A': [1, 2, None], 'B': [4, None, 6]})\n",
    "df2 = pd.DataFrame({'A': [1, None, 3], 'B': [None, 5, 6]})\n",
    "\n",
    "result = df1 + df2\n",
    "print(result)"
   ]
  },
  {
   "cell_type": "markdown",
   "id": "1e6333a1",
   "metadata": {},
   "source": [
    "Series Index Attribute"
   ]
  },
  {
   "cell_type": "code",
   "execution_count": 93,
   "id": "66c57d2a",
   "metadata": {},
   "outputs": [
    {
     "name": "stdout",
     "output_type": "stream",
     "text": [
      "Index(['a', 'b', 'c', 'd'], dtype='object')\n",
      "w    10\n",
      "x    20\n",
      "y    30\n",
      "z    40\n",
      "dtype: int64\n"
     ]
    }
   ],
   "source": [
    "import pandas as pd\n",
    "\n",
    "data = pd.Series([10, 20, 30, 40], index=['a', 'b', 'c', 'd'])\n",
    "\n",
    "print(data.index)\n",
    "data.index = ['w', 'x', 'y', 'z']\n",
    "print(data)"
   ]
  },
  {
   "cell_type": "code",
   "execution_count": 95,
   "id": "4e580f3a",
   "metadata": {},
   "outputs": [
    {
     "name": "stdout",
     "output_type": "stream",
     "text": [
      "Index(['Day 1', 'Day 2', 'Day 3', 'Day 4'], dtype='object')\n",
      "Day 1    1/1/2025\n",
      "Day 2    2/1/2025\n",
      "Day 3    3/1/2025\n",
      "Day 4    4/1/2025\n",
      "dtype: object\n"
     ]
    }
   ],
   "source": [
    "Date = ['1/1/2025', '2/1/2025', '3/1/2025', '4/1/2025']\n",
    "idx = ['Day 1', 'Day 2', 'Day 3', 'Day 4']\n",
    "\n",
    "sr = pd.Series(data = Date,index = idx)\n",
    "print(sr.index)\n",
    "print(sr)"
   ]
  },
  {
   "cell_type": "code",
   "execution_count": 96,
   "id": "f42797e5",
   "metadata": {},
   "outputs": [
    {
     "name": "stdout",
     "output_type": "stream",
     "text": [
      "0    1/1/2025\n",
      "1    2/1/2025\n",
      "2    3/1/2025\n",
      "3    4/1/2025\n",
      "dtype: object\n"
     ]
    }
   ],
   "source": [
    "sr = pd.Series(data = Date,        \n",
    "              index = idx   \n",
    "              )\n",
    "sr.reset_index(drop=True, inplace=True)\n",
    "print(sr)"
   ]
  },
  {
   "cell_type": "markdown",
   "id": "f527f116",
   "metadata": {},
   "source": [
    "Working with Missing Data in Pandas\n",
    "\n",
    "Các lệnh: isnull(), isna(), notnull(), fillna(), replace(), interpolate(), dropna()import pandas as pd\n",
    "d = pd.read_csv(\"/content/employees.csv\")\n",
    "\n",
    "nmg = pd.notnull(d[\"Gender\"])\n",
    "\n",
    "nmgd= d[nmg]\n",
    "\n",
    "display(nmgd)"
   ]
  },
  {
   "cell_type": "code",
   "execution_count": null,
   "id": "0e69346c",
   "metadata": {},
   "outputs": [
    {
     "name": "stdout",
     "output_type": "stream",
     "text": [
      "    First Name Gender  Start Date Last Login Time  Salary  Bonus %  \\\n",
      "20        Lois    NaN   4/22/1995         7:18 PM   64714    4.934   \n",
      "22      Joshua    NaN    3/8/2012         1:58 AM   90816   18.816   \n",
      "27       Scott    NaN   7/11/1991         6:58 PM  122367    5.218   \n",
      "31       Joyce    NaN   2/20/2005         2:40 PM   88657   12.752   \n",
      "41   Christine    NaN   6/28/2015         1:08 AM   66582   11.308   \n",
      "..         ...    ...         ...             ...     ...      ...   \n",
      "961    Antonio    NaN   6/18/1989         9:37 PM  103050    3.050   \n",
      "972     Victor    NaN   7/28/2006         2:49 PM   76381   11.159   \n",
      "985    Stephen    NaN   7/10/1983         8:10 PM   85668    1.909   \n",
      "989     Justin    NaN   2/10/1991         4:58 PM   38344    3.794   \n",
      "995      Henry    NaN  11/23/2014         6:09 AM  132483   16.655   \n",
      "\n",
      "    Senior Management                  Team  \n",
      "20               True                 Legal  \n",
      "22               True       Client Services  \n",
      "27              False                 Legal  \n",
      "31              False               Product  \n",
      "41               True  Business Development  \n",
      "..                ...                   ...  \n",
      "961             False                 Legal  \n",
      "972              True                 Sales  \n",
      "985             False                 Legal  \n",
      "989             False                 Legal  \n",
      "995             False          Distribution  \n",
      "\n",
      "[145 rows x 8 columns]\n"
     ]
    }
   ],
   "source": [
    "import pandas as pd\n",
    "d = pd.read_csv(\"employees.csv\")\n",
    "\n",
    "bool = pd.isnull(d[\"Gender\"])\n",
    "miss_gender_data = d[bool_series]\n",
    "print(miss_gender_data)"
   ]
  },
  {
   "cell_type": "code",
   "execution_count": null,
   "id": "21e9f290",
   "metadata": {},
   "outputs": [
    {
     "name": "stdout",
     "output_type": "stream",
     "text": [
      "    First Name  Gender Start Date Last Login Time  Salary  Bonus %  \\\n",
      "0      Douglas    Male   8/6/1993        12:42 PM   97308    6.945   \n",
      "1       Thomas    Male  3/31/1996         6:53 AM   61933    4.170   \n",
      "2        Maria  Female  4/23/1993        11:17 AM  130590   11.858   \n",
      "3        Jerry    Male   3/4/2005         1:00 PM  138705    9.340   \n",
      "4        Larry    Male  1/24/1998         4:47 PM  101004    1.389   \n",
      "..         ...     ...        ...             ...     ...      ...   \n",
      "994     George    Male  6/21/2013         5:47 PM   98874    4.479   \n",
      "996    Phillip    Male  1/31/1984         6:30 AM   42392   19.675   \n",
      "997    Russell    Male  5/20/2013        12:39 PM   96914    1.421   \n",
      "998      Larry    Male  4/20/2013         4:45 PM   60500   11.985   \n",
      "999     Albert    Male  5/15/2012         6:24 PM  129949   10.169   \n",
      "\n",
      "    Senior Management                  Team  \n",
      "0                True             Marketing  \n",
      "1                True                   NaN  \n",
      "2               False               Finance  \n",
      "3                True               Finance  \n",
      "4                True       Client Services  \n",
      "..                ...                   ...  \n",
      "994              True             Marketing  \n",
      "996             False               Finance  \n",
      "997             False               Product  \n",
      "998             False  Business Development  \n",
      "999              True                 Sales  \n",
      "\n",
      "[855 rows x 8 columns]\n"
     ]
    }
   ],
   "source": [
    "d = pd.read_csv(\"employees.csv\")\n",
    "nmg = pd.notnull(d[\"Gender\"])\n",
    "nmgd= d[nmg]\n",
    "print(nmgd)"
   ]
  },
  {
   "cell_type": "code",
   "execution_count": 101,
   "id": "d2b379d4",
   "metadata": {},
   "outputs": [
    {
     "data": {
      "text/html": [
       "<div>\n",
       "<style scoped>\n",
       "    .dataframe tbody tr th:only-of-type {\n",
       "        vertical-align: middle;\n",
       "    }\n",
       "\n",
       "    .dataframe tbody tr th {\n",
       "        vertical-align: top;\n",
       "    }\n",
       "\n",
       "    .dataframe thead th {\n",
       "        text-align: right;\n",
       "    }\n",
       "</style>\n",
       "<table border=\"1\" class=\"dataframe\">\n",
       "  <thead>\n",
       "    <tr style=\"text-align: right;\">\n",
       "      <th></th>\n",
       "      <th>First Name</th>\n",
       "      <th>Gender</th>\n",
       "      <th>Start Date</th>\n",
       "      <th>Last Login Time</th>\n",
       "      <th>Salary</th>\n",
       "      <th>Bonus %</th>\n",
       "      <th>Senior Management</th>\n",
       "      <th>Team</th>\n",
       "    </tr>\n",
       "  </thead>\n",
       "  <tbody>\n",
       "    <tr>\n",
       "      <th>10</th>\n",
       "      <td>Louise</td>\n",
       "      <td>Female</td>\n",
       "      <td>8/12/1980</td>\n",
       "      <td>9:01 AM</td>\n",
       "      <td>63241</td>\n",
       "      <td>15.132</td>\n",
       "      <td>True</td>\n",
       "      <td>NaN</td>\n",
       "    </tr>\n",
       "    <tr>\n",
       "      <th>11</th>\n",
       "      <td>Julie</td>\n",
       "      <td>Female</td>\n",
       "      <td>10/26/1997</td>\n",
       "      <td>3:19 PM</td>\n",
       "      <td>102508</td>\n",
       "      <td>12.637</td>\n",
       "      <td>True</td>\n",
       "      <td>Legal</td>\n",
       "    </tr>\n",
       "    <tr>\n",
       "      <th>12</th>\n",
       "      <td>Brandon</td>\n",
       "      <td>Male</td>\n",
       "      <td>12/1/1980</td>\n",
       "      <td>1:08 AM</td>\n",
       "      <td>112807</td>\n",
       "      <td>17.492</td>\n",
       "      <td>True</td>\n",
       "      <td>Human Resources</td>\n",
       "    </tr>\n",
       "    <tr>\n",
       "      <th>13</th>\n",
       "      <td>Gary</td>\n",
       "      <td>Male</td>\n",
       "      <td>1/27/2008</td>\n",
       "      <td>11:40 PM</td>\n",
       "      <td>109831</td>\n",
       "      <td>5.831</td>\n",
       "      <td>False</td>\n",
       "      <td>Sales</td>\n",
       "    </tr>\n",
       "    <tr>\n",
       "      <th>14</th>\n",
       "      <td>Kimberly</td>\n",
       "      <td>Female</td>\n",
       "      <td>1/14/1999</td>\n",
       "      <td>7:13 AM</td>\n",
       "      <td>41426</td>\n",
       "      <td>14.543</td>\n",
       "      <td>True</td>\n",
       "      <td>Finance</td>\n",
       "    </tr>\n",
       "    <tr>\n",
       "      <th>15</th>\n",
       "      <td>Lillian</td>\n",
       "      <td>Female</td>\n",
       "      <td>6/5/2016</td>\n",
       "      <td>6:09 AM</td>\n",
       "      <td>59414</td>\n",
       "      <td>1.256</td>\n",
       "      <td>False</td>\n",
       "      <td>Product</td>\n",
       "    </tr>\n",
       "    <tr>\n",
       "      <th>16</th>\n",
       "      <td>Jeremy</td>\n",
       "      <td>Male</td>\n",
       "      <td>9/21/2010</td>\n",
       "      <td>5:56 AM</td>\n",
       "      <td>90370</td>\n",
       "      <td>7.369</td>\n",
       "      <td>False</td>\n",
       "      <td>Human Resources</td>\n",
       "    </tr>\n",
       "    <tr>\n",
       "      <th>17</th>\n",
       "      <td>Shawn</td>\n",
       "      <td>Male</td>\n",
       "      <td>12/7/1986</td>\n",
       "      <td>7:45 PM</td>\n",
       "      <td>111737</td>\n",
       "      <td>6.414</td>\n",
       "      <td>False</td>\n",
       "      <td>Product</td>\n",
       "    </tr>\n",
       "    <tr>\n",
       "      <th>18</th>\n",
       "      <td>Diana</td>\n",
       "      <td>Female</td>\n",
       "      <td>10/23/1981</td>\n",
       "      <td>10:27 AM</td>\n",
       "      <td>132940</td>\n",
       "      <td>19.082</td>\n",
       "      <td>False</td>\n",
       "      <td>Client Services</td>\n",
       "    </tr>\n",
       "    <tr>\n",
       "      <th>19</th>\n",
       "      <td>Donna</td>\n",
       "      <td>Female</td>\n",
       "      <td>7/22/2010</td>\n",
       "      <td>3:48 AM</td>\n",
       "      <td>81014</td>\n",
       "      <td>1.894</td>\n",
       "      <td>False</td>\n",
       "      <td>Product</td>\n",
       "    </tr>\n",
       "    <tr>\n",
       "      <th>20</th>\n",
       "      <td>Lois</td>\n",
       "      <td>No Gender</td>\n",
       "      <td>4/22/1995</td>\n",
       "      <td>7:18 PM</td>\n",
       "      <td>64714</td>\n",
       "      <td>4.934</td>\n",
       "      <td>True</td>\n",
       "      <td>Legal</td>\n",
       "    </tr>\n",
       "    <tr>\n",
       "      <th>21</th>\n",
       "      <td>Matthew</td>\n",
       "      <td>Male</td>\n",
       "      <td>9/5/1995</td>\n",
       "      <td>2:12 AM</td>\n",
       "      <td>100612</td>\n",
       "      <td>13.645</td>\n",
       "      <td>False</td>\n",
       "      <td>Marketing</td>\n",
       "    </tr>\n",
       "    <tr>\n",
       "      <th>22</th>\n",
       "      <td>Joshua</td>\n",
       "      <td>No Gender</td>\n",
       "      <td>3/8/2012</td>\n",
       "      <td>1:58 AM</td>\n",
       "      <td>90816</td>\n",
       "      <td>18.816</td>\n",
       "      <td>True</td>\n",
       "      <td>Client Services</td>\n",
       "    </tr>\n",
       "    <tr>\n",
       "      <th>23</th>\n",
       "      <td>NaN</td>\n",
       "      <td>Male</td>\n",
       "      <td>6/14/2012</td>\n",
       "      <td>4:19 PM</td>\n",
       "      <td>125792</td>\n",
       "      <td>5.042</td>\n",
       "      <td>NaN</td>\n",
       "      <td>NaN</td>\n",
       "    </tr>\n",
       "    <tr>\n",
       "      <th>24</th>\n",
       "      <td>John</td>\n",
       "      <td>Male</td>\n",
       "      <td>7/1/1992</td>\n",
       "      <td>10:08 PM</td>\n",
       "      <td>97950</td>\n",
       "      <td>13.873</td>\n",
       "      <td>False</td>\n",
       "      <td>Client Services</td>\n",
       "    </tr>\n",
       "  </tbody>\n",
       "</table>\n",
       "</div>"
      ],
      "text/plain": [
       "   First Name     Gender  Start Date Last Login Time  Salary  Bonus %  \\\n",
       "10     Louise     Female   8/12/1980         9:01 AM   63241   15.132   \n",
       "11      Julie     Female  10/26/1997         3:19 PM  102508   12.637   \n",
       "12    Brandon       Male   12/1/1980         1:08 AM  112807   17.492   \n",
       "13       Gary       Male   1/27/2008        11:40 PM  109831    5.831   \n",
       "14   Kimberly     Female   1/14/1999         7:13 AM   41426   14.543   \n",
       "15    Lillian     Female    6/5/2016         6:09 AM   59414    1.256   \n",
       "16     Jeremy       Male   9/21/2010         5:56 AM   90370    7.369   \n",
       "17      Shawn       Male   12/7/1986         7:45 PM  111737    6.414   \n",
       "18      Diana     Female  10/23/1981        10:27 AM  132940   19.082   \n",
       "19      Donna     Female   7/22/2010         3:48 AM   81014    1.894   \n",
       "20       Lois  No Gender   4/22/1995         7:18 PM   64714    4.934   \n",
       "21    Matthew       Male    9/5/1995         2:12 AM  100612   13.645   \n",
       "22     Joshua  No Gender    3/8/2012         1:58 AM   90816   18.816   \n",
       "23        NaN       Male   6/14/2012         4:19 PM  125792    5.042   \n",
       "24       John       Male    7/1/1992        10:08 PM   97950   13.873   \n",
       "\n",
       "   Senior Management             Team  \n",
       "10              True              NaN  \n",
       "11              True            Legal  \n",
       "12              True  Human Resources  \n",
       "13             False            Sales  \n",
       "14              True          Finance  \n",
       "15             False          Product  \n",
       "16             False  Human Resources  \n",
       "17             False          Product  \n",
       "18             False  Client Services  \n",
       "19             False          Product  \n",
       "20              True            Legal  \n",
       "21             False        Marketing  \n",
       "22              True  Client Services  \n",
       "23               NaN              NaN  \n",
       "24             False  Client Services  "
      ]
     },
     "execution_count": 101,
     "metadata": {},
     "output_type": "execute_result"
    }
   ],
   "source": [
    "d = pd.read_csv(\"employees.csv\")\n",
    "d[10:25]\n",
    "d[\"Gender\"].fillna('No Gender', inplace = True) \n",
    "d[10:25]"
   ]
  },
  {
   "cell_type": "code",
   "execution_count": 102,
   "id": "e4154e28",
   "metadata": {},
   "outputs": [
    {
     "data": {
      "text/plain": [
       "w    10\n",
       "x    20\n",
       "y    30\n",
       "z    40\n",
       "dtype: int64"
      ]
     },
     "execution_count": 102,
     "metadata": {},
     "output_type": "execute_result"
    }
   ],
   "source": [
    "data.replace(to_replace=np.nan, value=-99)"
   ]
  },
  {
   "cell_type": "code",
   "execution_count": 103,
   "id": "1470516d",
   "metadata": {},
   "outputs": [
    {
     "name": "stderr",
     "output_type": "stream",
     "text": [
      "C:\\Users\\nguye\\AppData\\Local\\Temp\\ipykernel_3404\\2300141645.py:1: FutureWarning: DataFrame.interpolate with object dtype is deprecated and will raise in a future version. Call obj.infer_objects(copy=False) before interpolating instead.\n",
      "  df.interpolate(method ='linear', limit_direction ='forward')\n"
     ]
    },
    {
     "data": {
      "text/html": [
       "<div>\n",
       "<style scoped>\n",
       "    .dataframe tbody tr th:only-of-type {\n",
       "        vertical-align: middle;\n",
       "    }\n",
       "\n",
       "    .dataframe tbody tr th {\n",
       "        vertical-align: top;\n",
       "    }\n",
       "\n",
       "    .dataframe thead th {\n",
       "        text-align: right;\n",
       "    }\n",
       "</style>\n",
       "<table border=\"1\" class=\"dataframe\">\n",
       "  <thead>\n",
       "    <tr style=\"text-align: right;\">\n",
       "      <th></th>\n",
       "      <th>Name</th>\n",
       "      <th>Team</th>\n",
       "      <th>Number</th>\n",
       "      <th>Position</th>\n",
       "      <th>Age</th>\n",
       "      <th>Height</th>\n",
       "      <th>Weight</th>\n",
       "      <th>College</th>\n",
       "      <th>Salary</th>\n",
       "    </tr>\n",
       "  </thead>\n",
       "  <tbody>\n",
       "    <tr>\n",
       "      <th>0</th>\n",
       "      <td>Avery Bradley</td>\n",
       "      <td>Boston Celtics</td>\n",
       "      <td>0.0</td>\n",
       "      <td>PG</td>\n",
       "      <td>25.0</td>\n",
       "      <td>6-2</td>\n",
       "      <td>180.0</td>\n",
       "      <td>Texas</td>\n",
       "      <td>7730337.0</td>\n",
       "    </tr>\n",
       "    <tr>\n",
       "      <th>1</th>\n",
       "      <td>Jae Crowder</td>\n",
       "      <td>Boston Celtics</td>\n",
       "      <td>99.0</td>\n",
       "      <td>SF</td>\n",
       "      <td>25.0</td>\n",
       "      <td>6-6</td>\n",
       "      <td>235.0</td>\n",
       "      <td>Marquette</td>\n",
       "      <td>6796117.0</td>\n",
       "    </tr>\n",
       "    <tr>\n",
       "      <th>2</th>\n",
       "      <td>John Holland</td>\n",
       "      <td>Boston Celtics</td>\n",
       "      <td>30.0</td>\n",
       "      <td>SG</td>\n",
       "      <td>27.0</td>\n",
       "      <td>6-5</td>\n",
       "      <td>205.0</td>\n",
       "      <td>Boston University</td>\n",
       "      <td>3972378.5</td>\n",
       "    </tr>\n",
       "    <tr>\n",
       "      <th>3</th>\n",
       "      <td>R.J. Hunter</td>\n",
       "      <td>Boston Celtics</td>\n",
       "      <td>28.0</td>\n",
       "      <td>SG</td>\n",
       "      <td>22.0</td>\n",
       "      <td>6-5</td>\n",
       "      <td>185.0</td>\n",
       "      <td>Georgia State</td>\n",
       "      <td>1148640.0</td>\n",
       "    </tr>\n",
       "    <tr>\n",
       "      <th>4</th>\n",
       "      <td>Jonas Jerebko</td>\n",
       "      <td>Boston Celtics</td>\n",
       "      <td>8.0</td>\n",
       "      <td>PF</td>\n",
       "      <td>29.0</td>\n",
       "      <td>6-10</td>\n",
       "      <td>231.0</td>\n",
       "      <td>NaN</td>\n",
       "      <td>5000000.0</td>\n",
       "    </tr>\n",
       "    <tr>\n",
       "      <th>...</th>\n",
       "      <td>...</td>\n",
       "      <td>...</td>\n",
       "      <td>...</td>\n",
       "      <td>...</td>\n",
       "      <td>...</td>\n",
       "      <td>...</td>\n",
       "      <td>...</td>\n",
       "      <td>...</td>\n",
       "      <td>...</td>\n",
       "    </tr>\n",
       "    <tr>\n",
       "      <th>453</th>\n",
       "      <td>Shelvin Mack</td>\n",
       "      <td>Utah Jazz</td>\n",
       "      <td>8.0</td>\n",
       "      <td>PG</td>\n",
       "      <td>26.0</td>\n",
       "      <td>6-3</td>\n",
       "      <td>203.0</td>\n",
       "      <td>Butler</td>\n",
       "      <td>2433333.0</td>\n",
       "    </tr>\n",
       "    <tr>\n",
       "      <th>454</th>\n",
       "      <td>Raul Neto</td>\n",
       "      <td>Utah Jazz</td>\n",
       "      <td>25.0</td>\n",
       "      <td>PG</td>\n",
       "      <td>24.0</td>\n",
       "      <td>6-1</td>\n",
       "      <td>179.0</td>\n",
       "      <td>NaN</td>\n",
       "      <td>900000.0</td>\n",
       "    </tr>\n",
       "    <tr>\n",
       "      <th>455</th>\n",
       "      <td>Tibor Pleiss</td>\n",
       "      <td>Utah Jazz</td>\n",
       "      <td>21.0</td>\n",
       "      <td>C</td>\n",
       "      <td>26.0</td>\n",
       "      <td>7-3</td>\n",
       "      <td>256.0</td>\n",
       "      <td>NaN</td>\n",
       "      <td>2900000.0</td>\n",
       "    </tr>\n",
       "    <tr>\n",
       "      <th>456</th>\n",
       "      <td>Jeff Withey</td>\n",
       "      <td>Utah Jazz</td>\n",
       "      <td>24.0</td>\n",
       "      <td>C</td>\n",
       "      <td>26.0</td>\n",
       "      <td>7-0</td>\n",
       "      <td>231.0</td>\n",
       "      <td>Kansas</td>\n",
       "      <td>947276.0</td>\n",
       "    </tr>\n",
       "    <tr>\n",
       "      <th>457</th>\n",
       "      <td>NaN</td>\n",
       "      <td>NaN</td>\n",
       "      <td>24.0</td>\n",
       "      <td>NaN</td>\n",
       "      <td>26.0</td>\n",
       "      <td>NaN</td>\n",
       "      <td>231.0</td>\n",
       "      <td>NaN</td>\n",
       "      <td>947276.0</td>\n",
       "    </tr>\n",
       "  </tbody>\n",
       "</table>\n",
       "<p>458 rows × 9 columns</p>\n",
       "</div>"
      ],
      "text/plain": [
       "              Name            Team  Number Position   Age Height  Weight  \\\n",
       "0    Avery Bradley  Boston Celtics     0.0       PG  25.0    6-2   180.0   \n",
       "1      Jae Crowder  Boston Celtics    99.0       SF  25.0    6-6   235.0   \n",
       "2     John Holland  Boston Celtics    30.0       SG  27.0    6-5   205.0   \n",
       "3      R.J. Hunter  Boston Celtics    28.0       SG  22.0    6-5   185.0   \n",
       "4    Jonas Jerebko  Boston Celtics     8.0       PF  29.0   6-10   231.0   \n",
       "..             ...             ...     ...      ...   ...    ...     ...   \n",
       "453   Shelvin Mack       Utah Jazz     8.0       PG  26.0    6-3   203.0   \n",
       "454      Raul Neto       Utah Jazz    25.0       PG  24.0    6-1   179.0   \n",
       "455   Tibor Pleiss       Utah Jazz    21.0        C  26.0    7-3   256.0   \n",
       "456    Jeff Withey       Utah Jazz    24.0        C  26.0    7-0   231.0   \n",
       "457            NaN             NaN    24.0      NaN  26.0    NaN   231.0   \n",
       "\n",
       "               College     Salary  \n",
       "0                Texas  7730337.0  \n",
       "1            Marquette  6796117.0  \n",
       "2    Boston University  3972378.5  \n",
       "3        Georgia State  1148640.0  \n",
       "4                  NaN  5000000.0  \n",
       "..                 ...        ...  \n",
       "453             Butler  2433333.0  \n",
       "454                NaN   900000.0  \n",
       "455                NaN  2900000.0  \n",
       "456             Kansas   947276.0  \n",
       "457                NaN   947276.0  \n",
       "\n",
       "[458 rows x 9 columns]"
      ]
     },
     "execution_count": 103,
     "metadata": {},
     "output_type": "execute_result"
    }
   ],
   "source": [
    "df.interpolate(method ='linear', limit_direction ='forward')"
   ]
  },
  {
   "cell_type": "code",
   "execution_count": 104,
   "id": "725f4d3b",
   "metadata": {},
   "outputs": [
    {
     "data": {
      "text/html": [
       "<div>\n",
       "<style scoped>\n",
       "    .dataframe tbody tr th:only-of-type {\n",
       "        vertical-align: middle;\n",
       "    }\n",
       "\n",
       "    .dataframe tbody tr th {\n",
       "        vertical-align: top;\n",
       "    }\n",
       "\n",
       "    .dataframe thead th {\n",
       "        text-align: right;\n",
       "    }\n",
       "</style>\n",
       "<table border=\"1\" class=\"dataframe\">\n",
       "  <thead>\n",
       "    <tr style=\"text-align: right;\">\n",
       "      <th></th>\n",
       "      <th>First Score</th>\n",
       "      <th>Second Score</th>\n",
       "      <th>Third Score</th>\n",
       "      <th>Fourth Score</th>\n",
       "    </tr>\n",
       "  </thead>\n",
       "  <tbody>\n",
       "    <tr>\n",
       "      <th>0</th>\n",
       "      <td>100.0</td>\n",
       "      <td>30.0</td>\n",
       "      <td>52.0</td>\n",
       "      <td>NaN</td>\n",
       "    </tr>\n",
       "    <tr>\n",
       "      <th>2</th>\n",
       "      <td>NaN</td>\n",
       "      <td>45.0</td>\n",
       "      <td>80.0</td>\n",
       "      <td>NaN</td>\n",
       "    </tr>\n",
       "    <tr>\n",
       "      <th>3</th>\n",
       "      <td>95.0</td>\n",
       "      <td>56.0</td>\n",
       "      <td>98.0</td>\n",
       "      <td>65.0</td>\n",
       "    </tr>\n",
       "  </tbody>\n",
       "</table>\n",
       "</div>"
      ],
      "text/plain": [
       "   First Score  Second Score  Third Score  Fourth Score\n",
       "0        100.0          30.0         52.0           NaN\n",
       "2          NaN          45.0         80.0           NaN\n",
       "3         95.0          56.0         98.0          65.0"
      ]
     },
     "execution_count": 104,
     "metadata": {},
     "output_type": "execute_result"
    }
   ],
   "source": [
    "dict = {'First Score': [100, np.nan, np.nan, 95],\n",
    "        'Second Score': [30, np.nan, 45, 56],\n",
    "        'Third Score': [52, np.nan, 80, 98],\n",
    "        'Fourth Score': [np.nan, np.nan, np.nan, 65]}\n",
    "df = pd.DataFrame(dict)\n",
    "\n",
    "df.dropna(how='all')"
   ]
  },
  {
   "cell_type": "code",
   "execution_count": 106,
   "id": "6c670928",
   "metadata": {},
   "outputs": [
    {
     "data": {
      "text/html": [
       "<div>\n",
       "<style scoped>\n",
       "    .dataframe tbody tr th:only-of-type {\n",
       "        vertical-align: middle;\n",
       "    }\n",
       "\n",
       "    .dataframe tbody tr th {\n",
       "        vertical-align: top;\n",
       "    }\n",
       "\n",
       "    .dataframe thead th {\n",
       "        text-align: right;\n",
       "    }\n",
       "</style>\n",
       "<table border=\"1\" class=\"dataframe\">\n",
       "  <thead>\n",
       "    <tr style=\"text-align: right;\">\n",
       "      <th></th>\n",
       "      <th>Fourth Score</th>\n",
       "    </tr>\n",
       "  </thead>\n",
       "  <tbody>\n",
       "    <tr>\n",
       "      <th>0</th>\n",
       "      <td>60</td>\n",
       "    </tr>\n",
       "    <tr>\n",
       "      <th>1</th>\n",
       "      <td>67</td>\n",
       "    </tr>\n",
       "    <tr>\n",
       "      <th>2</th>\n",
       "      <td>68</td>\n",
       "    </tr>\n",
       "    <tr>\n",
       "      <th>3</th>\n",
       "      <td>65</td>\n",
       "    </tr>\n",
       "  </tbody>\n",
       "</table>\n",
       "</div>"
      ],
      "text/plain": [
       "   Fourth Score\n",
       "0            60\n",
       "1            67\n",
       "2            68\n",
       "3            65"
      ]
     },
     "execution_count": 106,
     "metadata": {},
     "output_type": "execute_result"
    }
   ],
   "source": [
    "df.dropna(axis=1)"
   ]
  },
  {
   "cell_type": "markdown",
   "id": "346b5378",
   "metadata": {},
   "source": [
    "Pandas dataframe.drop_duplicates()\n",
    ".str.lower()\n",
    ".str.upper()\n",
    ".str.strip()\n",
    ".str.split('a')\n",
    ".str.len()\n",
    ".str.cat(sep=', ')\n",
    ".str.get_dummies()\n",
    ".str.startswith(' ')\n",
    ".str.endswith('')\n",
    ".str.replace('', '')\n",
    ".str.repeat(số)\n",
    ".str.count('')\n",
    ".str.find(' ')\n",
    ".str.findall(' ')\n",
    ".str.islower()\n",
    ".str.isupper()\n",
    ".str.isnumeric()\n",
    ".str.swapcase()"
   ]
  },
  {
   "cell_type": "code",
   "execution_count": 107,
   "id": "57c4b1e2",
   "metadata": {},
   "outputs": [
    {
     "name": "stdout",
     "output_type": "stream",
     "text": [
      "    Name  Age     City\n",
      "0  Alice   25       NY\n",
      "1    Bob   30       LA\n",
      "3  David   40  Chicago\n"
     ]
    }
   ],
   "source": [
    "df = pd.DataFrame({\n",
    "    'Name': ['Alice', 'Bob', 'Alice', 'David'],\n",
    "    'Age': [25, 30, 25, 40],\n",
    "    'City': ['NY', 'LA', 'SF', 'Chicago']\n",
    "})\n",
    "\n",
    "df_cleaned = df.drop_duplicates(subset=[\"Name\"])\n",
    "\n",
    "print(df_cleaned)"
   ]
  },
  {
   "cell_type": "code",
   "execution_count": 108,
   "id": "808ce22d",
   "metadata": {},
   "outputs": [
    {
     "name": "stdout",
     "output_type": "stream",
     "text": [
      "    Name  Age     City\n",
      "0  Alice   25       NY\n",
      "1    Bob   30       LA\n",
      "2  Alice   25       SF\n",
      "3  David   40  Chicago\n"
     ]
    }
   ],
   "source": [
    "df_cleaned= df.drop_duplicates(keep='last')\n",
    "print(df_cleaned)"
   ]
  },
  {
   "cell_type": "code",
   "execution_count": 109,
   "id": "378dcae5",
   "metadata": {},
   "outputs": [
    {
     "name": "stdout",
     "output_type": "stream",
     "text": [
      "    Name  Age     City\n",
      "0  Alice   25       NY\n",
      "1    Bob   30       LA\n",
      "2  Alice   25       SF\n",
      "3  David   40  Chicago\n"
     ]
    }
   ],
   "source": [
    "df_cleaned = df.drop_duplicates(keep=False)\n",
    "print(df_cleaned)"
   ]
  },
  {
   "cell_type": "code",
   "execution_count": 110,
   "id": "d319fc10",
   "metadata": {},
   "outputs": [
    {
     "name": "stdout",
     "output_type": "stream",
     "text": [
      "    Name  Age     City\n",
      "0  Alice   25       NY\n",
      "1    Bob   30       LA\n",
      "2  Alice   25       SF\n",
      "3  David   40  Chicago\n"
     ]
    }
   ],
   "source": [
    "df.drop_duplicates(inplace=True)\n",
    "print(df)"
   ]
  },
  {
   "cell_type": "code",
   "execution_count": 111,
   "id": "85305ca8",
   "metadata": {},
   "outputs": [
    {
     "name": "stdout",
     "output_type": "stream",
     "text": [
      "    Name  Age     City\n",
      "0  Alice   25       NY\n",
      "1    Bob   30       LA\n",
      "2  Alice   25       SF\n",
      "3  David   40  Chicago\n"
     ]
    }
   ],
   "source": [
    "df_cleaned = df.drop_duplicates(subset=[\"Name\", \"City\"])\n",
    "\n",
    "print(df_cleaned)"
   ]
  },
  {
   "cell_type": "markdown",
   "id": "8f8b791a",
   "metadata": {},
   "source": [
    "Pandas Change Datatype: astype()"
   ]
  },
  {
   "cell_type": "code",
   "execution_count": 112,
   "id": "d1e4d578",
   "metadata": {},
   "outputs": [
    {
     "name": "stdout",
     "output_type": "stream",
     "text": [
      "Name     object\n",
      "Age     float64\n",
      "City     object\n",
      "dtype: object\n"
     ]
    }
   ],
   "source": [
    "df['Age'] = df['Age'].astype(float)\n",
    "print(df.dtypes)"
   ]
  },
  {
   "cell_type": "code",
   "execution_count": 115,
   "id": "1af1f41c",
   "metadata": {},
   "outputs": [
    {
     "name": "stdout",
     "output_type": "stream",
     "text": [
      "Name                 object\n",
      "Age                   int64\n",
      "Gender               object\n",
      "Salary                int64\n",
      "Join Date    datetime64[ns]\n",
      "dtype: object\n"
     ]
    }
   ],
   "source": [
    "data = {'Name': ['John', 'Alice', 'Bob', 'Eve', 'Charlie'], \n",
    "        'Age': [25, 30, 22, 35, 28], \n",
    "        'Gender': ['Male', 'Female', 'Male', 'Female', 'Male'], \n",
    "        'Salary': [50000, 55000, 40000, 70000, 48000]}\n",
    "df = pd.DataFrame(data)\n",
    "df['Join Date'] = ['2021-01-01', '2020-05-22', '2022-03-15', '2021-07-30', '2020-11-11']\n",
    "\n",
    "df['Join Date'] = pd.to_datetime(df['Join Date'])\n",
    "print(df.dtypes)    "
   ]
  },
  {
   "cell_type": "code",
   "execution_count": 116,
   "id": "630e51e5",
   "metadata": {},
   "outputs": [
    {
     "name": "stdout",
     "output_type": "stream",
     "text": [
      "Name                 object\n",
      "Age                 float64\n",
      "Gender               object\n",
      "Salary               object\n",
      "Join Date    datetime64[ns]\n",
      "dtype: object\n"
     ]
    }
   ],
   "source": [
    "df = df.astype({'Age': 'float64', 'Salary': 'str'})\n",
    "print(df.dtypes)"
   ]
  },
  {
   "cell_type": "code",
   "execution_count": 118,
   "id": "64328496",
   "metadata": {},
   "outputs": [
    {
     "name": "stdout",
     "output_type": "stream",
     "text": [
      "   Names        Citys\n",
      "0   Hưng       Hà Nội\n",
      "1  Nghĩa  Hồ Chí Minh\n",
      "2   Minh      Đà Nẵng\n",
      "3    Hải          Huế\n",
      "4   Dũng      Cần Thơ\n",
      "5    NaN    Hải Phòng\n",
      "6  Trang   Quảng Ninh\n"
     ]
    }
   ],
   "source": [
    "data = {\n",
    "    'Names': ['Hưng', 'Nghĩa', 'Minh', 'Hải', 'Dũng', np.nan, 'Trang'],\n",
    "    'Citys': ['Hà Nội', 'Hồ Chí Minh', 'Đà Nẵng', 'Huế', 'Cần Thơ', 'Hải Phòng', 'Quảng Ninh']\n",
    "}\n",
    "\n",
    "df = pd.DataFrame(data)\n",
    "print(df)\n"
   ]
  },
  {
   "cell_type": "code",
   "execution_count": 119,
   "id": "5b092516",
   "metadata": {},
   "outputs": [
    {
     "name": "stdout",
     "output_type": "stream",
     "text": [
      "0     hưng\n",
      "1    nghĩa\n",
      "2     minh\n",
      "3      hải\n",
      "4     dũng\n",
      "5      NaN\n",
      "6    trang\n",
      "Name: Names, dtype: object\n"
     ]
    }
   ],
   "source": [
    "print(df['Names'].str.lower())"
   ]
  },
  {
   "cell_type": "code",
   "execution_count": 120,
   "id": "529dc5d7",
   "metadata": {},
   "outputs": [
    {
     "name": "stdout",
     "output_type": "stream",
     "text": [
      "0     HƯNG\n",
      "1    NGHĨA\n",
      "2     MINH\n",
      "3      HẢI\n",
      "4     DŨNG\n",
      "5      NaN\n",
      "6    TRANG\n",
      "Name: Names, dtype: object\n"
     ]
    }
   ],
   "source": [
    "print(df['Names'].str.upper())"
   ]
  },
  {
   "cell_type": "code",
   "execution_count": 121,
   "id": "18daacab",
   "metadata": {},
   "outputs": [
    {
     "name": "stdout",
     "output_type": "stream",
     "text": [
      "   Names Split_Names\n",
      "0   Hưng      [Hưng]\n",
      "1  Nghĩa    [Nghĩ, ]\n",
      "2   Minh      [Minh]\n",
      "3    Hải       [Hải]\n",
      "4   Dũng      [Dũng]\n",
      "5    NaN         NaN\n",
      "6  Trang    [Tr, ng]\n"
     ]
    }
   ],
   "source": [
    "df['Split_Names'] = df['Names'].str.split('a')\n",
    "print(df[['Names', 'Split_Names']])"
   ]
  },
  {
   "cell_type": "code",
   "execution_count": 122,
   "id": "bdcb9366",
   "metadata": {},
   "outputs": [
    {
     "name": "stdout",
     "output_type": "stream",
     "text": [
      "0    4.0\n",
      "1    5.0\n",
      "2    4.0\n",
      "3    3.0\n",
      "4    4.0\n",
      "5    NaN\n",
      "6    5.0\n",
      "Name: Names, dtype: float64\n"
     ]
    }
   ],
   "source": [
    "print(df['Names'].str.len())"
   ]
  },
  {
   "cell_type": "code",
   "execution_count": 125,
   "id": "704dd04f",
   "metadata": {},
   "outputs": [
    {
     "name": "stdout",
     "output_type": "stream",
     "text": [
      "0    False\n",
      "1    False\n",
      "2    False\n",
      "3    False\n",
      "4    False\n",
      "5      NaN\n",
      "6    False\n",
      "Name: Names, dtype: object\n"
     ]
    }
   ],
   "source": [
    "print(df['Names'].str.startswith('G'))"
   ]
  },
  {
   "cell_type": "code",
   "execution_count": 126,
   "id": "6e6b1159",
   "metadata": {},
   "outputs": [
    {
     "name": "stdout",
     "output_type": "stream",
     "text": [
      "0    False\n",
      "1    False\n",
      "2     True\n",
      "3    False\n",
      "4    False\n",
      "5      NaN\n",
      "6    False\n",
      "Name: Names, dtype: object\n"
     ]
    }
   ],
   "source": [
    "print(df['Names'].str.endswith('h'))"
   ]
  },
  {
   "cell_type": "code",
   "execution_count": 128,
   "id": "cb445901",
   "metadata": {},
   "outputs": [
    {
     "name": "stdout",
     "output_type": "stream",
     "text": [
      "0    Nghĩa\n",
      "1    Nghĩa\n",
      "2     Minh\n",
      "3      Hải\n",
      "4     Dũng\n",
      "5      NaN\n",
      "6    Trang\n",
      "Name: Names, dtype: object\n"
     ]
    }
   ],
   "source": [
    "print(df['Names'].str.replace('Hưng', 'Nghĩa'))"
   ]
  },
  {
   "cell_type": "code",
   "execution_count": 129,
   "id": "419853c0",
   "metadata": {},
   "outputs": [
    {
     "name": "stdout",
     "output_type": "stream",
     "text": [
      "0      HưngHưng\n",
      "1    NghĩaNghĩa\n",
      "2      MinhMinh\n",
      "3        HảiHải\n",
      "4      DũngDũng\n",
      "5           NaN\n",
      "6    TrangTrang\n",
      "Name: Names, dtype: object\n"
     ]
    }
   ],
   "source": [
    "print(df['Names'].str.repeat(2))"
   ]
  },
  {
   "cell_type": "code",
   "execution_count": 130,
   "id": "b865b50e",
   "metadata": {},
   "outputs": [
    {
     "name": "stdout",
     "output_type": "stream",
     "text": [
      "0    0.0\n",
      "1    1.0\n",
      "2    0.0\n",
      "3    0.0\n",
      "4    0.0\n",
      "5    NaN\n",
      "6    1.0\n",
      "Name: Names, dtype: float64\n"
     ]
    }
   ],
   "source": [
    "print(df['Names'].str.count('a'))"
   ]
  },
  {
   "cell_type": "code",
   "execution_count": 131,
   "id": "921ef394",
   "metadata": {},
   "outputs": [
    {
     "name": "stdout",
     "output_type": "stream",
     "text": [
      "0   -1.0\n",
      "1    4.0\n",
      "2   -1.0\n",
      "3   -1.0\n",
      "4   -1.0\n",
      "5    NaN\n",
      "6    2.0\n",
      "Name: Names, dtype: float64\n"
     ]
    }
   ],
   "source": [
    "print(df['Names'].str.find('a'))"
   ]
  },
  {
   "cell_type": "code",
   "execution_count": 132,
   "id": "af7d5c83",
   "metadata": {},
   "outputs": [
    {
     "name": "stdout",
     "output_type": "stream",
     "text": [
      "0     []\n",
      "1    [a]\n",
      "2     []\n",
      "3     []\n",
      "4     []\n",
      "5    NaN\n",
      "6    [a]\n",
      "Name: Names, dtype: object\n"
     ]
    }
   ],
   "source": [
    "print(df['Names'].str.findall('a'))"
   ]
  },
  {
   "cell_type": "code",
   "execution_count": 133,
   "id": "834f2da8",
   "metadata": {},
   "outputs": [
    {
     "name": "stdout",
     "output_type": "stream",
     "text": [
      "0    False\n",
      "1    False\n",
      "2    False\n",
      "3    False\n",
      "4    False\n",
      "5      NaN\n",
      "6    False\n",
      "Name: Names, dtype: object\n"
     ]
    }
   ],
   "source": [
    "print(df['Names'].str.islower())"
   ]
  },
  {
   "cell_type": "code",
   "execution_count": 134,
   "id": "413d4250",
   "metadata": {},
   "outputs": [
    {
     "name": "stdout",
     "output_type": "stream",
     "text": [
      "0    False\n",
      "1    False\n",
      "2    False\n",
      "3    False\n",
      "4    False\n",
      "5      NaN\n",
      "6    False\n",
      "Name: Names, dtype: object\n"
     ]
    }
   ],
   "source": [
    "print(df['Names'].str.isupper())"
   ]
  },
  {
   "cell_type": "code",
   "execution_count": 135,
   "id": "a9abb8ee",
   "metadata": {},
   "outputs": [
    {
     "name": "stdout",
     "output_type": "stream",
     "text": [
      "0    False\n",
      "1    False\n",
      "2    False\n",
      "3    False\n",
      "4    False\n",
      "5      NaN\n",
      "6    False\n",
      "Name: Names, dtype: object\n"
     ]
    }
   ],
   "source": [
    "print(df['Names'].str.isnumeric())"
   ]
  },
  {
   "cell_type": "code",
   "execution_count": null,
   "id": "a2127c47",
   "metadata": {},
   "outputs": [
    {
     "name": "stdout",
     "output_type": "stream",
     "text": [
      "0     hƯNG\n",
      "1    nGHĨA\n",
      "2     mINH\n",
      "3      hẢI\n",
      "4     dŨNG\n",
      "5      NaN\n",
      "6    tRANG\n",
      "Name: Names, dtype: object\n"
     ]
    }
   ],
   "source": [
    "print(df['Names'].str.swapcase())   "
   ]
  },
  {
   "cell_type": "markdown",
   "id": "c380338c",
   "metadata": {},
   "source": [
    "Visualizing DataFrame\n",
    "Data Normalization"
   ]
  },
  {
   "cell_type": "code",
   "execution_count": 141,
   "id": "0adbca2e",
   "metadata": {},
   "outputs": [
    {
     "name": "stdout",
     "output_type": "stream",
     "text": [
      "    Col A  Col B  Col C  Col D\n",
      "0  180000    110   18.9   1400\n",
      "1  360000    905   23.4   1800\n",
      "2  230000    230   14.0   1300\n",
      "3   60000    450   13.5   1500\n"
     ]
    },
    {
     "data": {
      "image/png": "[encoded data removed]",
      "text/plain": [
       "<Figure size 640x480 with 1 Axes>"
      ]
     },
     "metadata": {},
     "output_type": "display_data"
    }
   ],
   "source": [
    "import pandas as pd  \n",
    "import matplotlib.pyplot as plt  \n",
    "\n",
    "df = pd.DataFrame([\n",
    "    [180000, 110, 18.9, 1400],  \n",
    "    [360000, 905, 23.4, 1800],  \n",
    "    [230000, 230, 14.0, 1300],  \n",
    "    [60000, 450, 13.5, 1500]\n",
    "], columns=['Col A', 'Col B', 'Col C', 'Col D'])\n",
    "\n",
    "print(df)\n",
    "\n",
    "df.plot(kind='bar')\n",
    "plt.show()"
   ]
  },
  {
   "cell_type": "code",
   "execution_count": 143,
   "id": "b6cda9c1",
   "metadata": {},
   "outputs": [
    {
     "name": "stdout",
     "output_type": "stream",
     "text": [
      "      Col A     Col B     Col C    Col D\n",
      "0 -0.221422 -0.895492  0.311486 -0.46291\n",
      "1  1.227884  1.373564  1.278167  1.38873\n",
      "2  0.181163 -0.552993 -0.741122 -0.92582\n",
      "3 -1.187625  0.074922 -0.848531  0.00000\n"
     ]
    },
    {
     "data": {
      "image/png": "[encoded data removed]",
      "text/plain": [
       "<Figure size 640x480 with 1 Axes>"
      ]
     },
     "metadata": {},
     "output_type": "display_data"
    }
   ],
   "source": [
    "z_scaled = df.copy()\n",
    "\n",
    "for column in z_scaled.columns:\n",
    "    z_scaled[column] = (z_scaled[column] - z_scaled[column].mean()) / z_scaled[column].std()\n",
    "\n",
    "print(z_scaled)\n",
    "\n",
    "z_scaled.plot(kind='bar')\n",
    "plt.show()"
   ]
  },
  {
   "cell_type": "markdown",
   "id": "c496d57d",
   "metadata": {},
   "source": [
    ".describe()\n",
    "\n",
    "count is the number of rows in the dataframe.\n",
    "mean is the mean value of all the entries in the “Age” column.\n",
    "std is the standard deviation of the corresponding column.\n",
    "min and max are the minimum and maximum entry in the column respectively.\n",
    "25%, 50% and 75% are the First Quartiles, Second Quartile(Median) and Third Quartile respectively, which gives us important info on the distribution of the dataset and makes it simpler to apply an ML model."
   ]
  },
  {
   "cell_type": "markdown",
   "id": "e0a93db2",
   "metadata": {},
   "source": [
    "Pandas groupby() function \n",
    "\n",
    "DataFrame.groupby(by=None, axis=0, level=None, as_index=True, sort=True, group_keys=True, observed=False, dropna=True)"
   ]
  },
  {
   "cell_type": "code",
   "execution_count": 146,
   "id": "d2a73a2e",
   "metadata": {},
   "outputs": [
    {
     "name": "stdout",
     "output_type": "stream",
     "text": [
      "                                         Name  Number Position   Age Height  \\\n",
      "Team                                                                          \n",
      "Atlanta Hawks                   Kent Bazemore    24.0       SF  26.0    6-5   \n",
      "Boston Celtics                  Avery Bradley     0.0       PG  25.0    6-2   \n",
      "Brooklyn Nets                Bojan Bogdanovic    44.0       SG  27.0    6-8   \n",
      "Charlotte Hornets               Nicolas Batum     5.0       SG  27.0    6-8   \n",
      "Chicago Bulls                Cameron Bairstow    41.0       PF  25.0    6-9   \n",
      "Cleveland Cavaliers       Matthew Dellavedova     8.0       PG  25.0    6-4   \n",
      "Dallas Mavericks              Justin Anderson     1.0       SG  22.0    6-6   \n",
      "Denver Nuggets                 Darrell Arthur     0.0       PF  28.0    6-9   \n",
      "Detroit Pistons                  Joel Anthony    50.0        C  33.0    6-9   \n",
      "Golden State Warriors         Leandro Barbosa    19.0       SG  33.0    6-3   \n",
      "Houston Rockets                  Trevor Ariza     1.0       SF  30.0    6-8   \n",
      "Indiana Pacers                    Lavoy Allen     5.0       PF  27.0    6-9   \n",
      "Los Angeles Clippers             Cole Aldrich    45.0        C  27.0   6-11   \n",
      "Los Angeles Lakers               Brandon Bass     2.0       PF  31.0    6-8   \n",
      "Memphis Grizzlies                Jordan Adams     3.0       SG  21.0    6-5   \n",
      "Miami Heat                         Chris Bosh     1.0       PF  32.0   6-11   \n",
      "Milwaukee Bucks         Giannis Antetokounmpo    34.0       SF  21.0   6-11   \n",
      "Minnesota Timberwolves        Nemanja Bjelica    88.0       PF  28.0   6-10   \n",
      "New Orleans Pelicans            Alexis Ajinca    42.0        C  28.0    7-2   \n",
      "New York Knicks                 Arron Afflalo     4.0       SG  30.0    6-5   \n",
      "Oklahoma City Thunder            Steven Adams    12.0        C  22.0    7-0   \n",
      "Orlando Magic                  Dewayne Dedmon     3.0        C  26.0    7-0   \n",
      "Philadelphia 76ers                Elton Brand    42.0       PF  37.0    6-9   \n",
      "Phoenix Suns                     Eric Bledsoe     2.0       PG  26.0    6-1   \n",
      "Portland Trail Blazers        Cliff Alexander    34.0       PF  20.0    6-8   \n",
      "Sacramento Kings                   Quincy Acy    13.0       SF  25.0    6-7   \n",
      "San Antonio Spurs           LaMarcus Aldridge    12.0       PF  30.0   6-11   \n",
      "Toronto Raptors               Bismack Biyombo     8.0        C  23.0    6-9   \n",
      "Utah Jazz                       Trevor Booker    33.0       PF  28.0    6-8   \n",
      "Washington Wizards              Alan Anderson     6.0       SG  33.0    6-6   \n",
      "\n",
      "                        Weight                College      Salary  \n",
      "Team                                                               \n",
      "Atlanta Hawks            201.0           Old Dominion   2000000.0  \n",
      "Boston Celtics           180.0                  Texas   7730337.0  \n",
      "Brooklyn Nets            216.0         Oklahoma State   3425510.0  \n",
      "Charlotte Hornets        200.0  Virginia Commonwealth  13125306.0  \n",
      "Chicago Bulls            250.0             New Mexico    845059.0  \n",
      "Cleveland Cavaliers      198.0           Saint Mary's   1147276.0  \n",
      "Dallas Mavericks         228.0               Virginia   1449000.0  \n",
      "Denver Nuggets           235.0                 Kansas   2814000.0  \n",
      "Detroit Pistons          245.0                   UNLV   2500000.0  \n",
      "Golden State Warriors    194.0         North Carolina   2500000.0  \n",
      "Houston Rockets          215.0                   UCLA   8193030.0  \n",
      "Indiana Pacers           255.0                 Temple   4050000.0  \n",
      "Los Angeles Clippers     250.0                 Kansas   1100602.0  \n",
      "Los Angeles Lakers       250.0                    LSU   3000000.0  \n",
      "Memphis Grizzlies        209.0                   UCLA   1404600.0  \n",
      "Miami Heat               235.0           Georgia Tech  22192730.0  \n",
      "Milwaukee Bucks          222.0                Arizona   1953960.0  \n",
      "Minnesota Timberwolves   240.0             Louisville   3950001.0  \n",
      "New Orleans Pelicans     248.0             California   4389607.0  \n",
      "New York Knicks          210.0                   UCLA   8000000.0  \n",
      "Oklahoma City Thunder    255.0             Pittsburgh   2279040.0  \n",
      "Orlando Magic            245.0                    USC    947276.0  \n",
      "Philadelphia 76ers       254.0                   Duke    947276.0  \n",
      "Phoenix Suns             190.0               Kentucky  13500000.0  \n",
      "Portland Trail Blazers   240.0                 Kansas    525093.0  \n",
      "Sacramento Kings         240.0                 Baylor    981348.0  \n",
      "San Antonio Spurs        240.0                  Texas  19689000.0  \n",
      "Toronto Raptors          245.0               Missouri   2814000.0  \n",
      "Utah Jazz                228.0                Clemson   4775000.0  \n",
      "Washington Wizards       220.0         Michigan State   4000000.0  \n"
     ]
    }
   ],
   "source": [
    "import pandas as pd\n",
    "df = pd.read_csv(\"nba.csv\")\n",
    "team = df.groupby('Team')\n",
    "print(team.first()) "
   ]
  },
  {
   "cell_type": "code",
   "execution_count": 147,
   "id": "b3ff735d",
   "metadata": {},
   "outputs": [
    {
     "name": "stdout",
     "output_type": "stream",
     "text": [
      "                                         Name  Number   Age Height  Weight  \\\n",
      "Team               Position                                                  \n",
      "Atlanta Hawks      C               Al Horford    15.0  30.0   6-10   245.0   \n",
      "                   PF          Kris Humphries    43.0  31.0    6-9   235.0   \n",
      "                   PG         Dennis Schroder    17.0  22.0    6-1   172.0   \n",
      "                   SF           Kent Bazemore    24.0  26.0    6-5   201.0   \n",
      "                   SG        Tim Hardaway Jr.    10.0  24.0    6-6   205.0   \n",
      "...                                       ...     ...   ...    ...     ...   \n",
      "Washington Wizards C            Marcin Gortat    13.0  32.0   6-11   240.0   \n",
      "                   PF             Drew Gooden    90.0  34.0   6-10   250.0   \n",
      "                   PG          Ramon Sessions     7.0  30.0    6-3   190.0   \n",
      "                   SF            Jared Dudley     1.0  30.0    6-7   225.0   \n",
      "                   SG           Alan Anderson     6.0  33.0    6-6   220.0   \n",
      "\n",
      "                                          College      Salary  \n",
      "Team               Position                                    \n",
      "Atlanta Hawks      C                      Florida  12000000.0  \n",
      "                   PF                   Minnesota   1000000.0  \n",
      "                   PG                 Wake Forest   1763400.0  \n",
      "                   SF                Old Dominion   2000000.0  \n",
      "                   SG                    Michigan   1304520.0  \n",
      "...                                           ...         ...  \n",
      "Washington Wizards C         North Carolina State  11217391.0  \n",
      "                   PF                      Kansas   3300000.0  \n",
      "                   PG                      Nevada   2170465.0  \n",
      "                   SF              Boston College   4375000.0  \n",
      "                   SG              Michigan State   4000000.0  \n",
      "\n",
      "[149 rows x 7 columns]\n"
     ]
    }
   ],
   "source": [
    "grouping = df.groupby(['Team', 'Position'])\n",
    "print(grouping.first())"
   ]
  },
  {
   "cell_type": "code",
   "execution_count": 149,
   "id": "39532d1e",
   "metadata": {},
   "outputs": [
    {
     "name": "stdout",
     "output_type": "stream",
     "text": [
      "                              tongluong       luongtb  soluongplayer\n",
      "Team               Position                                         \n",
      "Atlanta Hawks      C         22756250.0  7.585417e+06              3\n",
      "                   PF        23952268.0  5.988067e+06              4\n",
      "                   PG         9763400.0  4.881700e+06              2\n",
      "                   SF         6000000.0  3.000000e+06              2\n",
      "                   SG        10431032.0  2.607758e+06              4\n",
      "...                                 ...           ...            ...\n",
      "Washington Wizards C         24490429.0  8.163476e+06              3\n",
      "                   PF        11300000.0  5.650000e+06              2\n",
      "                   PG        18022415.0  9.011208e+06              2\n",
      "                   SF        11158800.0  2.789700e+06              4\n",
      "                   SG        11356992.0  2.839248e+06              4\n",
      "\n",
      "[149 rows x 3 columns]\n"
     ]
    }
   ],
   "source": [
    "aggregated_data = df.groupby(['Team', 'Position']).agg(\n",
    "    tongluong=('Salary', 'sum'),\n",
    "    luongtb=('Salary', 'mean'),\n",
    "    soluongplayer=('Name', 'count')\n",
    ")\n",
    "\n",
    "print(aggregated_data)"
   ]
  },
  {
   "cell_type": "code",
   "execution_count": 150,
   "id": "59790669",
   "metadata": {},
   "outputs": [
    {
     "name": "stdout",
     "output_type": "stream",
     "text": [
      "              Name            Team  Number Position   Age Height  Weight  \\\n",
      "0    Avery Bradley  Boston Celtics     0.0       PG  25.0    6-2   180.0   \n",
      "1      Jae Crowder  Boston Celtics    99.0       SF  25.0    6-6   235.0   \n",
      "2     John Holland  Boston Celtics    30.0       SG  27.0    6-5   205.0   \n",
      "3      R.J. Hunter  Boston Celtics    28.0       SG  22.0    6-5   185.0   \n",
      "4    Jonas Jerebko  Boston Celtics     8.0       PF  29.0   6-10   231.0   \n",
      "..             ...             ...     ...      ...   ...    ...     ...   \n",
      "453   Shelvin Mack       Utah Jazz     8.0       PG  26.0    6-3   203.0   \n",
      "454      Raul Neto       Utah Jazz    25.0       PG  24.0    6-1   179.0   \n",
      "455   Tibor Pleiss       Utah Jazz    21.0        C  26.0    7-3   256.0   \n",
      "456    Jeff Withey       Utah Jazz    24.0        C  26.0    7-0   231.0   \n",
      "457            NaN             NaN     NaN      NaN   NaN    NaN     NaN   \n",
      "\n",
      "               College     Salary  Rank within Team  \n",
      "0                Texas  7730337.0               2.0  \n",
      "1            Marquette  6796117.0               4.0  \n",
      "2    Boston University        NaN               NaN  \n",
      "3        Georgia State  1148640.0              14.0  \n",
      "4                  NaN  5000000.0               5.0  \n",
      "..                 ...        ...               ...  \n",
      "453             Butler  2433333.0               8.0  \n",
      "454                NaN   900000.0              15.0  \n",
      "455                NaN  2900000.0               6.0  \n",
      "456             Kansas   947276.0              14.0  \n",
      "457                NaN        NaN               NaN  \n",
      "\n",
      "[458 rows x 10 columns]\n"
     ]
    }
   ],
   "source": [
    "df['Rank within Team'] = df.groupby('Team')['Salary'].transform(lambda x: x.rank(ascending=False))\n",
    "print(df)"
   ]
  },
  {
   "cell_type": "code",
   "execution_count": 151,
   "id": "87beebbe",
   "metadata": {},
   "outputs": [
    {
     "name": "stdout",
     "output_type": "stream",
     "text": [
      "              Name            Team  Number Position   Age Height  Weight  \\\n",
      "0    Avery Bradley  Boston Celtics     0.0       PG  25.0    6-2   180.0   \n",
      "1      Jae Crowder  Boston Celtics    99.0       SF  25.0    6-6   235.0   \n",
      "2     John Holland  Boston Celtics    30.0       SG  27.0    6-5   205.0   \n",
      "3      R.J. Hunter  Boston Celtics    28.0       SG  22.0    6-5   185.0   \n",
      "4    Jonas Jerebko  Boston Celtics     8.0       PF  29.0   6-10   231.0   \n",
      "..             ...             ...     ...      ...   ...    ...     ...   \n",
      "452     Trey Lyles       Utah Jazz    41.0       PF  20.0   6-10   234.0   \n",
      "453   Shelvin Mack       Utah Jazz     8.0       PG  26.0    6-3   203.0   \n",
      "454      Raul Neto       Utah Jazz    25.0       PG  24.0    6-1   179.0   \n",
      "455   Tibor Pleiss       Utah Jazz    21.0        C  26.0    7-3   256.0   \n",
      "456    Jeff Withey       Utah Jazz    24.0        C  26.0    7-0   231.0   \n",
      "\n",
      "               College     Salary  Rank within Team  \n",
      "0                Texas  7730337.0               2.0  \n",
      "1            Marquette  6796117.0               4.0  \n",
      "2    Boston University        NaN               NaN  \n",
      "3        Georgia State  1148640.0              14.0  \n",
      "4                  NaN  5000000.0               5.0  \n",
      "..                 ...        ...               ...  \n",
      "452           Kentucky  2239800.0               9.0  \n",
      "453             Butler  2433333.0               8.0  \n",
      "454                NaN   900000.0              15.0  \n",
      "455                NaN  2900000.0               6.0  \n",
      "456             Kansas   947276.0              14.0  \n",
      "\n",
      "[457 rows x 10 columns]\n"
     ]
    }
   ],
   "source": [
    "filtered_df = df.groupby('Team').filter(lambda x: x['Salary'].mean() >= 1000000)\n",
    "print(filtered_df)"
   ]
  },
  {
   "cell_type": "markdown",
   "id": "df7ef8c6",
   "metadata": {},
   "source": [
    "Grouping and Aggregating with Pandas: sum(), size(), min(), max(),mean(), size(), describe(), firse(), count(), std(), var(), sem()"
   ]
  }
 ],
 "metadata": {
  "kernelspec": {
   "display_name": ".venv (3.14.0)",
   "language": "python",
   "name": "python3"
  },
  "language_info": {
   "codemirror_mode": {
    "name": "ipython",
    "version": 3
   },
   "file_extension": ".py",
   "mimetype": "text/x-python",
   "name": "python",
   "nbconvert_exporter": "python",
   "pygments_lexer": "ipython3",
   "version": "3.14.0"
  }
 },
 "nbformat": 4,
 "nbformat_minor": 5
}
